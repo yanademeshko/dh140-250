{
 "cells": [
  {
   "cell_type": "markdown",
   "id": "f32982ec-eca5-4832-8b03-89a5ded47867",
   "metadata": {},
   "source": [
    "# Assignment 08 -- Network Analysis"
   ]
  },
  {
   "cell_type": "markdown",
   "id": "ce69ad26-4247-4e8a-8bcf-692c39b8fbf0",
   "metadata": {},
   "source": [
    "##### The following code uses NetworkX and City Cytoscape in order to perform network analysis of William Shakespeare's play <em>Romeo and Juliet</em>. Specifically, the analysis concerns how frequently do characters interact with each other in separate scenes. Characters themselves serve as nodes, while connections represent the edges. The weight is represented/calculated by the number of times each charatcer interacts with the other in the play. According to the analysis performed with NetworkX, Romeo is the character with highest degree centrality at 0.944 meaning that he interacts with the highest number of other characters. Juliet, in comparison, has degree centrality of 0.611 and has fewer so-called neighbors compared to Romeo. The resulting visualization was performed with Dash Cytoscape and is available to view in the folder under the title \"Network Analysis Visualiation.\""
   ]
  },
  {
   "cell_type": "code",
   "execution_count": 1,
   "id": "0aeaaf8a-4bdd-4d70-a157-a13573e2221a",
   "metadata": {},
   "outputs": [],
   "source": [
    "import dash\n",
    "import dash_cytoscape as cyto\n",
    "from dash import html, dcc\n",
    "from dash.dependencies import Input, Output\n",
    "from jupyter_dash import JupyterDash\n",
    "from jupyter_dash.comms import _send_jupyter_config_comm_request"
   ]
  },
  {
   "cell_type": "code",
   "execution_count": 2,
   "id": "c96dded9-7f50-4de7-983f-f2317d4f2bab",
   "metadata": {},
   "outputs": [],
   "source": [
    "_send_jupyter_config_comm_request()"
   ]
  },
  {
   "cell_type": "code",
   "execution_count": 4,
   "id": "a2aec53f-4520-405d-88bc-e74e9486e609",
   "metadata": {},
   "outputs": [],
   "source": [
    "JupyterDash.infer_jupyter_proxy_config()"
   ]
  },
  {
   "cell_type": "code",
   "execution_count": 6,
   "id": "bce39e3b-4d20-4543-93c1-a8fd321b7184",
   "metadata": {},
   "outputs": [],
   "source": [
    "with open('Assignment 8/Romeoandjuliet.txt') as f:\n",
    "    x = f.read() "
   ]
  },
  {
   "cell_type": "code",
   "execution_count": 7,
   "id": "5545f528-c1cb-4b5f-b683-75192b8db338",
   "metadata": {
    "tags": []
   },
   "outputs": [
    {
     "data": {
      "text/plain": [
       "' I. A public place.\\n\\n Enter Sampson and Gregory armed with swords and bucklers.\\n\\nSAMPSON.\\nGregory, on my word, we’ll not carry coals.\\n\\nGREGORY.\\nNo, for then we should be colliers.\\n\\nSAMPSON.\\nI mean, if we be in choler, we’ll draw.\\n\\nGREGORY.\\nAy, while you live, draw your neck out o’ the collar.\\n\\nSAMPSON.\\nI strike quickly, being moved.\\n\\nGREGORY.\\nBut thou art not quickly moved to strike.\\n\\nSAMPSON.\\nA dog of the house of Montague moves me.\\n\\nGREGORY.\\nTo move is to stir; and to be valiant is to stand: therefore, if thou\\nart moved, thou runn’st away.\\n\\nSAMPSON.\\nA dog of that house shall move me to stand.\\nI will take the wall of any man or maid of Montague’s.\\n\\nGREGORY.\\nThat shows thee a weak slave, for the weakest goes to the wall.\\n\\nSAMPSON.\\nTrue, and therefore women, being the weaker vessels, are ever thrust to\\nthe wall: therefore I will push Montague’s men from the wall, and\\nthrust his maids to the wall.\\n\\nGREGORY.\\nThe quarrel is between our masters and us their men.\\n\\nSAMPSON.\\n’Tis all one, I will show myself a tyrant: when I have fought with the\\nmen I will be civil with the maids, I will cut off their heads.\\n\\nGREGORY.\\nThe heads of the maids?\\n\\nSAMPSON.\\nAy, the heads of the maids, or their maidenheads; take it in what sense\\nthou wilt.\\n\\nGREGORY.\\nThey must take it in sense that feel it.\\n\\nSAMPSON.\\nMe they shall feel while I am able to stand: and ’tis known I am a\\npretty piece of flesh.\\n\\nGREGORY.\\n’Tis well thou art not fish; if thou hadst, thou hadst been poor John.\\nDraw thy tool; here comes of the house of Montagues.\\n\\n Enter Abram and Balthasar.\\n\\nSAMPSON.\\nMy naked weapon is out: quarrel, I will back thee.\\n\\nGREGORY.\\nHow? Turn thy back and run?\\n\\nSAMPSON.\\nFear me not.\\n\\nGREGORY.\\nNo, marry; I fear thee!\\n\\nSAMPSON.\\nLet us take the law of our sides; let them begin.\\n\\nGREGORY.\\nI will frown as I pass by, and let them take it as they list.\\n\\nSAMPSON.\\nNay, as they dare. I will bite my thumb at them, which is disgrace to\\nthem if they bear it.\\n\\nABRAM.\\nDo you bite your thumb at us, sir?\\n\\nSAMPSON.\\nI do bite my thumb, sir.\\n\\nABRAM.\\nDo you bite your thumb at us, sir?\\n\\nSAMPSON.\\nIs the law of our side if I say ay?\\n\\nGREGORY.\\nNo.\\n\\nSAMPSON.\\nNo sir, I do not bite my thumb at you, sir; but I bite my thumb, sir.\\n\\nGREGORY.\\nDo you quarrel, sir?\\n\\nABRAM.\\nQuarrel, sir? No, sir.\\n\\nSAMPSON.\\nBut if you do, sir, am for you. I serve as good a man as you.\\n\\nABRAM.\\nNo better.\\n\\nSAMPSON.\\nWell, sir.\\n\\n Enter Benvolio.\\n\\nGREGORY.\\nSay better; here comes one of my master’s kinsmen.\\n\\nSAMPSON.\\nYes, better, sir.\\n\\nABRAM.\\nYou lie.\\n\\nSAMPSON.\\nDraw, if you be men. Gregory, remember thy washing blow.\\n\\n [_They fight._]\\n\\nBENVOLIO.\\nPart, fools! put up your swords, you know not what you do.\\n\\n [_Beats down their swords._]\\n\\n Enter Tybalt.\\n\\nTYBALT.\\nWhat, art thou drawn among these heartless hinds?\\nTurn thee Benvolio, look upon thy death.\\n\\nBENVOLIO.\\nI do but keep the peace, put up thy sword,\\nOr manage it to part these men with me.\\n\\nTYBALT.\\nWhat, drawn, and talk of peace? I hate the word\\nAs I hate hell, all Montagues, and thee:\\nHave at thee, coward.\\n\\n [_They fight._]\\n\\n Enter three or four Citizens with clubs.\\n\\nFIRST CITIZEN.\\nClubs, bills and partisans! Strike! Beat them down!\\nDown with the Capulets! Down with the Montagues!\\n\\n Enter Capulet in his gown, and Lady Capulet.\\n\\nCAPULET.\\nWhat noise is this? Give me my long sword, ho!\\n\\nLADY CAPULET.\\nA crutch, a crutch! Why call you for a sword?\\n\\nCAPULET.\\nMy sword, I say! Old Montague is come,\\nAnd flourishes his blade in spite of me.\\n\\n Enter Montague and his Lady Montague.\\n\\nMONTAGUE.\\nThou villain Capulet! Hold me not, let me go.\\n\\nLADY MONTAGUE.\\nThou shalt not stir one foot to seek a foe.\\n\\n Enter Prince Escalus, with Attendants.\\n\\nPRINCE.\\nRebellious subjects, enemies to peace,\\nProfaners of this neighbour-stained steel,—\\nWill they not hear? What, ho! You men, you beasts,\\nThat quench the fire of your pernicious rage\\nWith purple fountains issuing from your veins,\\nOn pain of torture, from those bloody hands\\nThrow your mistemper’d weapons to the ground\\nAnd hear the sentence of your moved prince.\\nThree civil brawls, bred of an airy word,\\nBy thee, old Capulet, and Montague,\\nHave thrice disturb’d the quiet of our streets,\\nAnd made Verona’s ancient citizens\\nCast by their grave beseeming ornaments,\\nTo wield old partisans, in hands as old,\\nCanker’d with peace, to part your canker’d hate.\\nIf ever you disturb our streets again,\\nYour lives shall pay the forfeit of the peace.\\nFor this time all the rest depart away:\\nYou, Capulet, shall go along with me,\\nAnd Montague, come you this afternoon,\\nTo know our farther pleasure in this case,\\nTo old Free-town, our common judgement-place.\\nOnce more, on pain of death, all men depart.\\n\\n [_Exeunt Prince and Attendants; Capulet, Lady Capulet, Tybalt,\\n Citizens and Servants._]\\n\\nMONTAGUE.\\nWho set this ancient quarrel new abroach?\\nSpeak, nephew, were you by when it began?\\n\\nBENVOLIO.\\nHere were the servants of your adversary\\nAnd yours, close fighting ere I did approach.\\nI drew to part them, in the instant came\\nThe fiery Tybalt, with his sword prepar’d,\\nWhich, as he breath’d defiance to my ears,\\nHe swung about his head, and cut the winds,\\nWho nothing hurt withal, hiss’d him in scorn.\\nWhile we were interchanging thrusts and blows\\nCame more and more, and fought on part and part,\\nTill the Prince came, who parted either part.\\n\\nLADY MONTAGUE.\\nO where is Romeo, saw you him today?\\nRight glad I am he was not at this fray.\\n\\nBENVOLIO.\\nMadam, an hour before the worshipp’d sun\\nPeer’d forth the golden window of the east,\\nA troubled mind drave me to walk abroad,\\nWhere underneath the grove of sycamore\\nThat westward rooteth from this city side,\\nSo early walking did I see your son.\\nTowards him I made, but he was ware of me,\\nAnd stole into the covert of the wood.\\nI, measuring his affections by my own,\\nWhich then most sought where most might not be found,\\nBeing one too many by my weary self,\\nPursu’d my humour, not pursuing his,\\nAnd gladly shunn’d who gladly fled from me.\\n\\nMONTAGUE.\\nMany a morning hath he there been seen,\\nWith tears augmenting the fresh morning’s dew,\\nAdding to clouds more clouds with his deep sighs;\\nBut all so soon as the all-cheering sun\\nShould in the farthest east begin to draw\\nThe shady curtains from Aurora’s bed,\\nAway from light steals home my heavy son,\\nAnd private in his chamber pens himself,\\nShuts up his windows, locks fair daylight out\\nAnd makes himself an artificial night.\\nBlack and portentous must this humour prove,\\nUnless good counsel may the cause remove.\\n\\nBENVOLIO.\\nMy noble uncle, do you know the cause?\\n\\nMONTAGUE.\\nI neither know it nor can learn of him.\\n\\nBENVOLIO.\\nHave you importun’d him by any means?\\n\\nMONTAGUE.\\nBoth by myself and many other friends;\\nBut he, his own affections’ counsellor,\\nIs to himself—I will not say how true—\\nBut to himself so secret and so close,\\nSo far from sounding and discovery,\\nAs is the bud bit with an envious worm\\nEre he can spread his sweet leaves to the air,\\nOr dedicate his beauty to the sun.\\nCould we but learn from whence his sorrows grow,\\nWe would as willingly give cure as know.\\n\\n Enter Romeo.\\n\\nBENVOLIO.\\nSee, where he comes. So please you step aside;\\nI’ll know his grievance or be much denied.\\n\\nMONTAGUE.\\nI would thou wert so happy by thy stay\\nTo hear true shrift. Come, madam, let’s away,\\n\\n [_Exeunt Montague and Lady Montague._]\\n\\nBENVOLIO.\\nGood morrow, cousin.\\n\\nROMEO.\\nIs the day so young?\\n\\nBENVOLIO.\\nBut new struck nine.\\n\\nROMEO.\\nAy me, sad hours seem long.\\nWas that my father that went hence so fast?\\n\\nBENVOLIO.\\nIt was. What sadness lengthens Romeo’s hours?\\n\\nROMEO.\\nNot having that which, having, makes them short.\\n\\nBENVOLIO.\\nIn love?\\n\\nROMEO.\\nOut.\\n\\nBENVOLIO.\\nOf love?\\n\\nROMEO.\\nOut of her favour where I am in love.\\n\\nBENVOLIO.\\nAlas that love so gentle in his view,\\nShould be so tyrannous and rough in proof.\\n\\nROMEO.\\nAlas that love, whose view is muffled still,\\nShould, without eyes, see pathways to his will!\\nWhere shall we dine? O me! What fray was here?\\nYet tell me not, for I have heard it all.\\nHere’s much to do with hate, but more with love:\\nWhy, then, O brawling love! O loving hate!\\nO anything, of nothing first create!\\nO heavy lightness! serious vanity!\\nMisshapen chaos of well-seeming forms!\\nFeather of lead, bright smoke, cold fire, sick health!\\nStill-waking sleep, that is not what it is!\\nThis love feel I, that feel no love in this.\\nDost thou not laugh?\\n\\nBENVOLIO.\\nNo coz, I rather weep.\\n\\nROMEO.\\nGood heart, at what?\\n\\nBENVOLIO.\\nAt thy good heart’s oppression.\\n\\nROMEO.\\nWhy such is love’s transgression.\\nGriefs of mine own lie heavy in my breast,\\nWhich thou wilt propagate to have it prest\\nWith more of thine. This love that thou hast shown\\nDoth add more grief to too much of mine own.\\nLove is a smoke made with the fume of sighs;\\nBeing purg’d, a fire sparkling in lovers’ eyes;\\nBeing vex’d, a sea nourish’d with lovers’ tears:\\nWhat is it else? A madness most discreet,\\nA choking gall, and a preserving sweet.\\nFarewell, my coz.\\n\\n [_Going._]\\n\\nBENVOLIO.\\nSoft! I will go along:\\nAnd if you leave me so, you do me wrong.\\n\\nROMEO.\\nTut! I have lost myself; I am not here.\\nThis is not Romeo, he’s some other where.\\n\\nBENVOLIO.\\nTell me in sadness who is that you love?\\n\\nROMEO.\\nWhat, shall I groan and tell thee?\\n\\nBENVOLIO.\\nGroan! Why, no; but sadly tell me who.\\n\\nROMEO.\\nBid a sick man in sadness make his will,\\nA word ill urg’d to one that is so ill.\\nIn sadness, cousin, I do love a woman.\\n\\nBENVOLIO.\\nI aim’d so near when I suppos’d you lov’d.\\n\\nROMEO.\\nA right good markman, and she’s fair I love.\\n\\nBENVOLIO.\\nA right fair mark, fair coz, is soonest hit.\\n\\nROMEO.\\nWell, in that hit you miss: she’ll not be hit\\nWith Cupid’s arrow, she hath Dian’s wit;\\nAnd in strong proof of chastity well arm’d,\\nFrom love’s weak childish bow she lives uncharm’d.\\nShe will not stay the siege of loving terms\\nNor bide th’encounter of assailing eyes,\\nNor ope her lap to saint-seducing gold:\\nO she’s rich in beauty, only poor\\nThat when she dies, with beauty dies her store.\\n\\nBENVOLIO.\\nThen she hath sworn that she will still live chaste?\\n\\nROMEO.\\nShe hath, and in that sparing makes huge waste;\\nFor beauty starv’d with her severity,\\nCuts beauty off from all posterity.\\nShe is too fair, too wise; wisely too fair,\\nTo merit bliss by making me despair.\\nShe hath forsworn to love, and in that vow\\nDo I live dead, that live to tell it now.\\n\\nBENVOLIO.\\nBe rul’d by me, forget to think of her.\\n\\nROMEO.\\nO teach me how I should forget to think.\\n\\nBENVOLIO.\\nBy giving liberty unto thine eyes;\\nExamine other beauties.\\n\\nROMEO.\\n’Tis the way\\nTo call hers, exquisite, in question more.\\nThese happy masks that kiss fair ladies’ brows,\\nBeing black, puts us in mind they hide the fair;\\nHe that is strucken blind cannot forget\\nThe precious treasure of his eyesight lost.\\nShow me a mistress that is passing fair,\\nWhat doth her beauty serve but as a note\\nWhere I may read who pass’d that passing fair?\\nFarewell, thou canst not teach me to forget.\\n\\nBENVOLIO.\\nI’ll pay that doctrine, or else die in debt.\\n\\n [_Exeunt._]\\n\\n'"
      ]
     },
     "execution_count": 7,
     "metadata": {},
     "output_type": "execute_result"
    }
   ],
   "source": [
    "x.split('Act')[1].split('SCENE')[1]"
   ]
  },
  {
   "cell_type": "code",
   "execution_count": 8,
   "id": "acc6ec9d-874b-4987-8455-eeced4c1836d",
   "metadata": {},
   "outputs": [],
   "source": [
    "acts = x.split('ACT')[6:]"
   ]
  },
  {
   "cell_type": "code",
   "execution_count": 9,
   "id": "9449edf5-889d-4242-800a-969e5984702d",
   "metadata": {
    "tags": []
   },
   "outputs": [
    {
     "data": {
      "text/plain": [
       "' V\\n\\nSCENE I. Mantua. A Street.\\n\\n Enter Romeo.\\n\\nROMEO.\\nIf I may trust the flattering eye of sleep,\\nMy dreams presage some joyful news at hand.\\nMy bosom’s lord sits lightly in his throne;\\nAnd all this day an unaccustom’d spirit\\nLifts me above the ground with cheerful thoughts.\\nI dreamt my lady came and found me dead,—\\nStrange dream, that gives a dead man leave to think!—\\nAnd breath’d such life with kisses in my lips,\\nThat I reviv’d, and was an emperor.\\nAh me, how sweet is love itself possess’d,\\nWhen but love’s shadows are so rich in joy.\\n\\n Enter Balthasar.\\n\\nNews from Verona! How now, Balthasar?\\nDost thou not bring me letters from the Friar?\\nHow doth my lady? Is my father well?\\nHow fares my Juliet? That I ask again;\\nFor nothing can be ill if she be well.\\n\\nBALTHASAR.\\nThen she is well, and nothing can be ill.\\nHer body sleeps in Capel’s monument,\\nAnd her immortal part with angels lives.\\nI saw her laid low in her kindred’s vault,\\nAnd presently took post to tell it you.\\nO pardon me for bringing these ill news,\\nSince you did leave it for my office, sir.\\n\\nROMEO.\\nIs it even so? Then I defy you, stars!\\nThou know’st my lodging. Get me ink and paper,\\nAnd hire post-horses. I will hence tonight.\\n\\nBALTHASAR.\\nI do beseech you sir, have patience.\\nYour looks are pale and wild, and do import\\nSome misadventure.\\n\\nROMEO.\\nTush, thou art deceiv’d.\\nLeave me, and do the thing I bid thee do.\\nHast thou no letters to me from the Friar?\\n\\nBALTHASAR.\\nNo, my good lord.\\n\\nROMEO.\\nNo matter. Get thee gone,\\nAnd hire those horses. I’ll be with thee straight.\\n\\n [_Exit Balthasar._]\\n\\nWell, Juliet, I will lie with thee tonight.\\nLet’s see for means. O mischief thou art swift\\nTo enter in the thoughts of desperate men.\\nI do remember an apothecary,—\\nAnd hereabouts he dwells,—which late I noted\\nIn tatter’d weeds, with overwhelming brows,\\nCulling of simples, meagre were his looks,\\nSharp misery had worn him to the bones;\\nAnd in his needy shop a tortoise hung,\\nAn alligator stuff’d, and other skins\\nOf ill-shaped fishes; and about his shelves\\nA beggarly account of empty boxes,\\nGreen earthen pots, bladders, and musty seeds,\\nRemnants of packthread, and old cakes of roses\\nWere thinly scatter’d, to make up a show.\\nNoting this penury, to myself I said,\\nAnd if a man did need a poison now,\\nWhose sale is present death in Mantua,\\nHere lives a caitiff wretch would sell it him.\\nO, this same thought did but forerun my need,\\nAnd this same needy man must sell it me.\\nAs I remember, this should be the house.\\nBeing holiday, the beggar’s shop is shut.\\nWhat, ho! Apothecary!\\n\\n Enter Apothecary.\\n\\nAPOTHECARY.\\nWho calls so loud?\\n\\nROMEO.\\nCome hither, man. I see that thou art poor.\\nHold, there is forty ducats. Let me have\\nA dram of poison, such soon-speeding gear\\nAs will disperse itself through all the veins,\\nThat the life-weary taker may fall dead,\\nAnd that the trunk may be discharg’d of breath\\nAs violently as hasty powder fir’d\\nDoth hurry from the fatal cannon’s womb.\\n\\nAPOTHECARY.\\nSuch mortal drugs I have, but Mantua’s law\\nIs death to any he that utters them.\\n\\nROMEO.\\nArt thou so bare and full of wretchedness,\\nAnd fear’st to die? Famine is in thy cheeks,\\nNeed and oppression starveth in thine eyes,\\nContempt and beggary hangs upon thy back.\\nThe world is not thy friend, nor the world’s law;\\nThe world affords no law to make thee rich;\\nThen be not poor, but break it and take this.\\n\\nAPOTHECARY.\\nMy poverty, but not my will consents.\\n\\nROMEO.\\nI pay thy poverty, and not thy will.\\n\\nAPOTHECARY.\\nPut this in any liquid thing you will\\nAnd drink it off; and, if you had the strength\\nOf twenty men, it would despatch you straight.\\n\\nROMEO.\\nThere is thy gold, worse poison to men’s souls,\\nDoing more murder in this loathsome world\\nThan these poor compounds that thou mayst not sell.\\nI sell thee poison, thou hast sold me none.\\nFarewell, buy food, and get thyself in flesh.\\nCome, cordial and not poison, go with me\\nTo Juliet’s grave, for there must I use thee.\\n\\n [_Exeunt._]\\n\\nSCENE II. Friar Lawrence’s Cell.\\n\\n Enter Friar John.\\n\\nFRIAR JOHN.\\nHoly Franciscan Friar! Brother, ho!\\n\\n Enter Friar Lawrence.\\n\\nFRIAR LAWRENCE.\\nThis same should be the voice of Friar John.\\nWelcome from Mantua. What says Romeo?\\nOr, if his mind be writ, give me his letter.\\n\\nFRIAR JOHN.\\nGoing to find a barefoot brother out,\\nOne of our order, to associate me,\\nHere in this city visiting the sick,\\nAnd finding him, the searchers of the town,\\nSuspecting that we both were in a house\\nWhere the infectious pestilence did reign,\\nSeal’d up the doors, and would not let us forth,\\nSo that my speed to Mantua there was stay’d.\\n\\nFRIAR LAWRENCE.\\nWho bare my letter then to Romeo?\\n\\nFRIAR JOHN.\\nI could not send it,—here it is again,—\\nNor get a messenger to bring it thee,\\nSo fearful were they of infection.\\n\\nFRIAR LAWRENCE.\\nUnhappy fortune! By my brotherhood,\\nThe letter was not nice, but full of charge,\\nOf dear import, and the neglecting it\\nMay do much danger. Friar John, go hence,\\nGet me an iron crow and bring it straight\\nUnto my cell.\\n\\nFRIAR JOHN.\\nBrother, I’ll go and bring it thee.\\n\\n [_Exit._]\\n\\nFRIAR LAWRENCE.\\nNow must I to the monument alone.\\nWithin this three hours will fair Juliet wake.\\nShe will beshrew me much that Romeo\\nHath had no notice of these accidents;\\nBut I will write again to Mantua,\\nAnd keep her at my cell till Romeo come.\\nPoor living corse, clos’d in a dead man’s tomb.\\n\\n [_Exit._]\\n\\nSCENE III. A churchyard; in it a Monument belonging to the Capulets.\\n\\n Enter Paris, and his Page bearing flowers and a torch.\\n\\nPARIS.\\nGive me thy torch, boy. Hence and stand aloof.\\nYet put it out, for I would not be seen.\\nUnder yond yew tree lay thee all along,\\nHolding thy ear close to the hollow ground;\\nSo shall no foot upon the churchyard tread,\\nBeing loose, unfirm, with digging up of graves,\\nBut thou shalt hear it. Whistle then to me,\\nAs signal that thou hear’st something approach.\\nGive me those flowers. Do as I bid thee, go.\\n\\nPAGE.\\n[_Aside._] I am almost afraid to stand alone\\nHere in the churchyard; yet I will adventure.\\n\\n [_Retires._]\\n\\nPARIS.\\nSweet flower, with flowers thy bridal bed I strew.\\nO woe, thy canopy is dust and stones,\\nWhich with sweet water nightly I will dew,\\nOr wanting that, with tears distill’d by moans.\\nThe obsequies that I for thee will keep,\\nNightly shall be to strew thy grave and weep.\\n\\n [_The Page whistles._]\\n\\nThe boy gives warning something doth approach.\\nWhat cursed foot wanders this way tonight,\\nTo cross my obsequies and true love’s rite?\\nWhat, with a torch! Muffle me, night, awhile.\\n\\n [_Retires._]\\n\\n Enter Romeo and Balthasar with a torch, mattock, &c.\\n\\nROMEO.\\nGive me that mattock and the wrenching iron.\\nHold, take this letter; early in the morning\\nSee thou deliver it to my lord and father.\\nGive me the light; upon thy life I charge thee,\\nWhate’er thou hear’st or seest, stand all aloof\\nAnd do not interrupt me in my course.\\nWhy I descend into this bed of death\\nIs partly to behold my lady’s face,\\nBut chiefly to take thence from her dead finger\\nA precious ring, a ring that I must use\\nIn dear employment. Therefore hence, be gone.\\nBut if thou jealous dost return to pry\\nIn what I further shall intend to do,\\nBy heaven I will tear thee joint by joint,\\nAnd strew this hungry churchyard with thy limbs.\\nThe time and my intents are savage-wild;\\nMore fierce and more inexorable far\\nThan empty tigers or the roaring sea.\\n\\nBALTHASAR.\\nI will be gone, sir, and not trouble you.\\n\\nROMEO.\\nSo shalt thou show me friendship. Take thou that.\\nLive, and be prosperous, and farewell, good fellow.\\n\\nBALTHASAR.\\nFor all this same, I’ll hide me hereabout.\\nHis looks I fear, and his intents I doubt.\\n\\n [_Retires_]\\n\\nROMEO.\\nThou detestable maw, thou womb of death,\\nGorg’d with the dearest morsel of the earth,\\nThus I enforce thy rotten jaws to open,\\n\\n [_Breaking open the door of the monument._]\\n\\nAnd in despite, I’ll cram thee with more food.\\n\\nPARIS.\\nThis is that banish’d haughty Montague\\nThat murder’d my love’s cousin,—with which grief,\\nIt is supposed, the fair creature died,—\\nAnd here is come to do some villanous shame\\nTo the dead bodies. I will apprehend him.\\n\\n [_Advances._]\\n\\nStop thy unhallow’d toil, vile Montague.\\nCan vengeance be pursu’d further than death?\\nCondemned villain, I do apprehend thee.\\nObey, and go with me, for thou must die.\\n\\nROMEO.\\nI must indeed; and therefore came I hither.\\nGood gentle youth, tempt not a desperate man.\\nFly hence and leave me. Think upon these gone;\\nLet them affright thee. I beseech thee, youth,\\nPut not another sin upon my head\\nBy urging me to fury. O be gone.\\nBy heaven I love thee better than myself;\\nFor I come hither arm’d against myself.\\nStay not, be gone, live, and hereafter say,\\nA madman’s mercy bid thee run away.\\n\\nPARIS.\\nI do defy thy conjuration,\\nAnd apprehend thee for a felon here.\\n\\nROMEO.\\nWilt thou provoke me? Then have at thee, boy!\\n\\n [_They fight._]\\n\\nPAGE.\\nO lord, they fight! I will go call the watch.\\n\\n [_Exit._]\\n\\nPARIS.\\nO, I am slain! [_Falls._] If thou be merciful,\\nOpen the tomb, lay me with Juliet.\\n\\n [_Dies._]\\n\\nROMEO.\\nIn faith, I will. Let me peruse this face.\\nMercutio’s kinsman, noble County Paris!\\nWhat said my man, when my betossed soul\\nDid not attend him as we rode? I think\\nHe told me Paris should have married Juliet.\\nSaid he not so? Or did I dream it so?\\nOr am I mad, hearing him talk of Juliet,\\nTo think it was so? O, give me thy hand,\\nOne writ with me in sour misfortune’s book.\\nI’ll bury thee in a triumphant grave.\\nA grave? O no, a lantern, slaught’red youth,\\nFor here lies Juliet, and her beauty makes\\nThis vault a feasting presence full of light.\\nDeath, lie thou there, by a dead man interr’d.\\n\\n [_Laying Paris in the monument._]\\n\\nHow oft when men are at the point of death\\nHave they been merry! Which their keepers call\\nA lightning before death. O, how may I\\nCall this a lightning? O my love, my wife,\\nDeath that hath suck’d the honey of thy breath,\\nHath had no power yet upon thy beauty.\\nThou art not conquer’d. Beauty’s ensign yet\\nIs crimson in thy lips and in thy cheeks,\\nAnd death’s pale flag is not advanced there.\\nTybalt, liest thou there in thy bloody sheet?\\nO, what more favour can I do to thee\\nThan with that hand that cut thy youth in twain\\nTo sunder his that was thine enemy?\\nForgive me, cousin. Ah, dear Juliet,\\nWhy art thou yet so fair? Shall I believe\\nThat unsubstantial death is amorous;\\nAnd that the lean abhorred monster keeps\\nThee here in dark to be his paramour?\\nFor fear of that I still will stay with thee,\\nAnd never from this palace of dim night\\nDepart again. Here, here will I remain\\nWith worms that are thy chambermaids. O, here\\nWill I set up my everlasting rest;\\nAnd shake the yoke of inauspicious stars\\nFrom this world-wearied flesh. Eyes, look your last.\\nArms, take your last embrace! And, lips, O you\\nThe doors of breath, seal with a righteous kiss\\nA dateless bargain to engrossing death.\\nCome, bitter conduct, come, unsavoury guide.\\nThou desperate pilot, now at once run on\\nThe dashing rocks thy sea-sick weary bark.\\nHere’s to my love! [_Drinks._] O true apothecary!\\nThy drugs are quick. Thus with a kiss I die.\\n\\n [_Dies._]\\n\\n Enter, at the other end of the Churchyard, Friar Lawrence, with a\\n lantern, crow, and spade.\\n\\nFRIAR LAWRENCE.\\nSaint Francis be my speed. How oft tonight\\nHave my old feet stumbled at graves? Who’s there?\\nWho is it that consorts, so late, the dead?\\n\\nBALTHASAR.\\nHere’s one, a friend, and one that knows you well.\\n\\nFRIAR LAWRENCE.\\nBliss be upon you. Tell me, good my friend,\\nWhat torch is yond that vainly lends his light\\nTo grubs and eyeless skulls? As I discern,\\nIt burneth in the Capels’ monument.\\n\\nBALTHASAR.\\nIt doth so, holy sir, and there’s my master,\\nOne that you love.\\n\\nFRIAR LAWRENCE.\\nWho is it?\\n\\nBALTHASAR.\\nRomeo.\\n\\nFRIAR LAWRENCE.\\nHow long hath he been there?\\n\\nBALTHASAR.\\nFull half an hour.\\n\\nFRIAR LAWRENCE.\\nGo with me to the vault.\\n\\nBALTHASAR.\\nI dare not, sir;\\nMy master knows not but I am gone hence,\\nAnd fearfully did menace me with death\\nIf I did stay to look on his intents.\\n\\nFRIAR LAWRENCE.\\nStay then, I’ll go alone. Fear comes upon me.\\nO, much I fear some ill unlucky thing.\\n\\nBALTHASAR.\\nAs I did sleep under this yew tree here,\\nI dreamt my master and another fought,\\nAnd that my master slew him.\\n\\nFRIAR LAWRENCE.\\nRomeo! [_Advances._]\\nAlack, alack, what blood is this which stains\\nThe stony entrance of this sepulchre?\\nWhat mean these masterless and gory swords\\nTo lie discolour’d by this place of peace?\\n\\n [_Enters the monument._]\\n\\nRomeo! O, pale! Who else? What, Paris too?\\nAnd steep’d in blood? Ah what an unkind hour\\nIs guilty of this lamentable chance?\\nThe lady stirs.\\n\\n [_Juliet wakes and stirs._]\\n\\nJULIET.\\nO comfortable Friar, where is my lord?\\nI do remember well where I should be,\\nAnd there I am. Where is my Romeo?\\n\\n [_Noise within._]\\n\\nFRIAR LAWRENCE.\\nI hear some noise. Lady, come from that nest\\nOf death, contagion, and unnatural sleep.\\nA greater power than we can contradict\\nHath thwarted our intents. Come, come away.\\nThy husband in thy bosom there lies dead;\\nAnd Paris too. Come, I’ll dispose of thee\\nAmong a sisterhood of holy nuns.\\nStay not to question, for the watch is coming.\\nCome, go, good Juliet. I dare no longer stay.\\n\\nJULIET.\\nGo, get thee hence, for I will not away.\\n\\n [_Exit Friar Lawrence._]\\n\\nWhat’s here? A cup clos’d in my true love’s hand?\\nPoison, I see, hath been his timeless end.\\nO churl. Drink all, and left no friendly drop\\nTo help me after? I will kiss thy lips.\\nHaply some poison yet doth hang on them,\\nTo make me die with a restorative.\\n\\n [_Kisses him._]\\n\\nThy lips are warm!\\n\\nFIRST WATCH.\\n[_Within._] Lead, boy. Which way?\\n\\nJULIET.\\nYea, noise? Then I’ll be brief. O happy dagger.\\n\\n [_Snatching Romeo’s dagger._]\\n\\nThis is thy sheath. [_stabs herself_] There rest, and let me die.\\n\\n [_Falls on Romeo’s body and dies._]\\n\\n Enter Watch with the Page of Paris.\\n\\nPAGE.\\nThis is the place. There, where the torch doth burn.\\n\\nFIRST WATCH.\\nThe ground is bloody. Search about the churchyard.\\nGo, some of you, whoe’er you find attach.\\n\\n [_Exeunt some of the Watch._]\\n\\nPitiful sight! Here lies the County slain,\\nAnd Juliet bleeding, warm, and newly dead,\\nWho here hath lain this two days buried.\\nGo tell the Prince; run to the Capulets.\\nRaise up the Montagues, some others search.\\n\\n [_Exeunt others of the Watch._]\\n\\nWe see the ground whereon these woes do lie,\\nBut the true ground of all these piteous woes\\nWe cannot without circumstance descry.\\n\\n Re-enter some of the Watch with Balthasar.\\n\\nSECOND WATCH.\\nHere’s Romeo’s man. We found him in the churchyard.\\n\\nFIRST WATCH.\\nHold him in safety till the Prince come hither.\\n\\n Re-enter others of the Watch with Friar Lawrence.\\n\\nTHIRD WATCH. Here is a Friar that trembles, sighs, and weeps.\\nWe took this mattock and this spade from him\\nAs he was coming from this churchyard side.\\n\\nFIRST WATCH.\\nA great suspicion. Stay the Friar too.\\n\\n Enter the Prince and Attendants.\\n\\nPRINCE.\\nWhat misadventure is so early up,\\nThat calls our person from our morning’s rest?\\n\\n Enter Capulet, Lady Capulet and others.\\n\\nCAPULET.\\nWhat should it be that they so shriek abroad?\\n\\nLADY CAPULET.\\nO the people in the street cry Romeo,\\nSome Juliet, and some Paris, and all run\\nWith open outcry toward our monument.\\n\\nPRINCE.\\nWhat fear is this which startles in our ears?\\n\\nFIRST WATCH.\\nSovereign, here lies the County Paris slain,\\nAnd Romeo dead, and Juliet, dead before,\\nWarm and new kill’d.\\n\\nPRINCE.\\nSearch, seek, and know how this foul murder comes.\\n\\nFIRST WATCH.\\nHere is a Friar, and slaughter’d Romeo’s man,\\nWith instruments upon them fit to open\\nThese dead men’s tombs.\\n\\nCAPULET.\\nO heaven! O wife, look how our daughter bleeds!\\nThis dagger hath mista’en, for lo, his house\\nIs empty on the back of Montague,\\nAnd it mis-sheathed in my daughter’s bosom.\\n\\nLADY CAPULET.\\nO me! This sight of death is as a bell\\nThat warns my old age to a sepulchre.\\n\\n Enter Montague and others.\\n\\nPRINCE.\\nCome, Montague, for thou art early up,\\nTo see thy son and heir more early down.\\n\\nMONTAGUE.\\nAlas, my liege, my wife is dead tonight.\\nGrief of my son’s exile hath stopp’d her breath.\\nWhat further woe conspires against mine age?\\n\\nPRINCE.\\nLook, and thou shalt see.\\n\\nMONTAGUE.\\nO thou untaught! What manners is in this,\\nTo press before thy father to a grave?\\n\\nPRINCE.\\nSeal up the mouth of outrage for a while,\\nTill we can clear these ambiguities,\\nAnd know their spring, their head, their true descent,\\nAnd then will I be general of your woes,\\nAnd lead you even to death. Meantime forbear,\\nAnd let mischance be slave to patience.\\nBring forth the parties of suspicion.\\n\\nFRIAR LAWRENCE.\\nI am the greatest, able to do least,\\nYet most suspected, as the time and place\\nDoth make against me, of this direful murder.\\nAnd here I stand, both to impeach and purge\\nMyself condemned and myself excus’d.\\n\\nPRINCE.\\nThen say at once what thou dost know in this.\\n\\nFRIAR LAWRENCE.\\nI will be brief, for my short date of breath\\nIs not so long as is a tedious tale.\\nRomeo, there dead, was husband to that Juliet,\\nAnd she, there dead, that Romeo’s faithful wife.\\nI married them; and their stol’n marriage day\\nWas Tybalt’s doomsday, whose untimely death\\nBanish’d the new-made bridegroom from this city;\\nFor whom, and not for Tybalt, Juliet pin’d.\\nYou, to remove that siege of grief from her,\\nBetroth’d, and would have married her perforce\\nTo County Paris. Then comes she to me,\\nAnd with wild looks, bid me devise some means\\nTo rid her from this second marriage,\\nOr in my cell there would she kill herself.\\nThen gave I her, so tutored by my art,\\nA sleeping potion, which so took effect\\nAs I intended, for it wrought on her\\nThe form of death. Meantime I writ to Romeo\\nThat he should hither come as this dire night\\nTo help to take her from her borrow’d grave,\\nBeing the time the potion’s force should cease.\\nBut he which bore my letter, Friar John,\\nWas stay’d by accident; and yesternight\\nReturn’d my letter back. Then all alone\\nAt the prefixed hour of her waking\\nCame I to take her from her kindred’s vault,\\nMeaning to keep her closely at my cell\\nTill I conveniently could send to Romeo.\\nBut when I came, some minute ere the time\\nOf her awaking, here untimely lay\\nThe noble Paris and true Romeo dead.\\nShe wakes; and I entreated her come forth\\nAnd bear this work of heaven with patience.\\nBut then a noise did scare me from the tomb;\\nAnd she, too desperate, would not go with me,\\nBut, as it seems, did violence on herself.\\nAll this I know; and to the marriage\\nHer Nurse is privy. And if ought in this\\nMiscarried by my fault, let my old life\\nBe sacrific’d, some hour before his time,\\nUnto the rigour of severest law.\\n\\nPRINCE.\\nWe still have known thee for a holy man.\\nWhere’s Romeo’s man? What can he say to this?\\n\\nBALTHASAR.\\nI brought my master news of Juliet’s death,\\nAnd then in post he came from Mantua\\nTo this same place, to this same monument.\\nThis letter he early bid me give his father,\\nAnd threaten’d me with death, going in the vault,\\nIf I departed not, and left him there.\\n\\nPRINCE.\\nGive me the letter, I will look on it.\\nWhere is the County’s Page that rais’d the watch?\\nSirrah, what made your master in this place?\\n\\nPAGE.\\nHe came with flowers to strew his lady’s grave,\\nAnd bid me stand aloof, and so I did.\\nAnon comes one with light to ope the tomb,\\nAnd by and by my master drew on him,\\nAnd then I ran away to call the watch.\\n\\nPRINCE.\\nThis letter doth make good the Friar’s words,\\nTheir course of love, the tidings of her death.\\nAnd here he writes that he did buy a poison\\nOf a poor ’pothecary, and therewithal\\nCame to this vault to die, and lie with Juliet.\\nWhere be these enemies? Capulet, Montague,\\nSee what a scourge is laid upon your hate,\\nThat heaven finds means to kill your joys with love!\\nAnd I, for winking at your discords too,\\nHave lost a brace of kinsmen. All are punish’d.\\n\\nCAPULET.\\nO brother Montague, give me thy hand.\\nThis is my daughter’s jointure, for no more\\nCan I demand.\\n\\nMONTAGUE.\\nBut I can give thee more,\\nFor I will raise her statue in pure gold,\\nThat whiles Verona by that name is known,\\nThere shall no figure at such rate be set\\nAs that of true and faithful Juliet.\\n\\nCAPULET.\\nAs rich shall Romeo’s by his lady’s lie,\\nPoor sacrifices of our enmity.\\n\\nPRINCE.\\nA glooming peace this morning with it brings;\\nThe sun for sorrow will not show his head.\\nGo hence, to have more talk of these sad things.\\nSome shall be pardon’d, and some punished,\\nFor never was a story of more woe\\nThan this of Juliet and her Romeo.\\n\\n [_Exeunt._]\\n\\n'"
      ]
     },
     "execution_count": 9,
     "metadata": {},
     "output_type": "execute_result"
    }
   ],
   "source": [
    "acts[-1]"
   ]
  },
  {
   "cell_type": "code",
   "execution_count": 10,
   "id": "e44c62fd-b185-4ba1-b627-45a226634f51",
   "metadata": {
    "tags": []
   },
   "outputs": [
    {
     "data": {
      "text/plain": [
       "' VI. Friar Lawrence’s Cell.\\n\\n Enter Friar Lawrence and Romeo.\\n\\nFRIAR LAWRENCE.\\nSo smile the heavens upon this holy act\\nThat after-hours with sorrow chide us not.\\n\\nROMEO.\\nAmen, amen, but come what sorrow can,\\nIt cannot countervail the exchange of joy\\nThat one short minute gives me in her sight.\\nDo thou but close our hands with holy words,\\nThen love-devouring death do what he dare,\\nIt is enough I may but call her mine.\\n\\nFRIAR LAWRENCE.\\nThese violent delights have violent ends,\\nAnd in their triumph die; like fire and powder,\\nWhich as they kiss consume. The sweetest honey\\nIs loathsome in his own deliciousness,\\nAnd in the taste confounds the appetite.\\nTherefore love moderately: long love doth so;\\nToo swift arrives as tardy as too slow.\\n\\n Enter Juliet.\\n\\nHere comes the lady. O, so light a foot\\nWill ne’er wear out the everlasting flint.\\nA lover may bestride the gossamers\\nThat idles in the wanton summer air\\nAnd yet not fall; so light is vanity.\\n\\nJULIET.\\nGood even to my ghostly confessor.\\n\\nFRIAR LAWRENCE.\\nRomeo shall thank thee, daughter, for us both.\\n\\nJULIET.\\nAs much to him, else is his thanks too much.\\n\\nROMEO.\\nAh, Juliet, if the measure of thy joy\\nBe heap’d like mine, and that thy skill be more\\nTo blazon it, then sweeten with thy breath\\nThis neighbour air, and let rich music’s tongue\\nUnfold the imagin’d happiness that both\\nReceive in either by this dear encounter.\\n\\nJULIET.\\nConceit more rich in matter than in words,\\nBrags of his substance, not of ornament.\\nThey are but beggars that can count their worth;\\nBut my true love is grown to such excess,\\nI cannot sum up sum of half my wealth.\\n\\nFRIAR LAWRENCE.\\nCome, come with me, and we will make short work,\\nFor, by your leaves, you shall not stay alone\\nTill holy church incorporate two in one.\\n\\n [_Exeunt._]\\n\\n\\n\\n'"
      ]
     },
     "execution_count": 10,
     "metadata": {},
     "output_type": "execute_result"
    }
   ],
   "source": [
    "acts[1].split('SCENE')[-1]"
   ]
  },
  {
   "cell_type": "code",
   "execution_count": 11,
   "id": "82db24f1-546d-477d-b331-c784bb71cfc5",
   "metadata": {},
   "outputs": [
    {
     "data": {
      "text/plain": [
       "63"
      ]
     },
     "execution_count": 11,
     "metadata": {},
     "output_type": "execute_result"
    }
   ],
   "source": [
    "acts[1].split('SCENE')[-1].find('FRIAR LAWRENCE')"
   ]
  },
  {
   "cell_type": "code",
   "execution_count": 12,
   "id": "77c370cd-c5c2-4c1d-8b18-9a50e34d5495",
   "metadata": {},
   "outputs": [],
   "source": [
    "characters = [\n",
    "    'MERCUTIO',\n",
    "    'PARIS',\n",
    "    'MONTAGUE',\n",
    "    'LADY MONTAGUE',\n",
    "    'ROMEO',\n",
    "    'BENVOLIO',\n",
    "    'ABRAM',\n",
    "    'BALTHASAR',\n",
    "    'CAPULET',\n",
    "    'LADY CAPULET',\n",
    "    'JULIET',\n",
    "    'TYBALT',\n",
    "    'CAPULET’S COUSIN',\n",
    "    'NURSE',\n",
    "    'PETER',\n",
    "    'SAMPSON',\n",
    "    'GREGORY',\n",
    "    'FRIAR LAWRENCE',\n",
    "    'FRIAR JOHN'\n",
    "]\n",
    "    "
   ]
  },
  {
   "cell_type": "code",
   "execution_count": 13,
   "id": "cae748ef-9938-435a-9640-70530cf6b02e",
   "metadata": {},
   "outputs": [
    {
     "data": {
      "text/plain": [
       "5"
      ]
     },
     "execution_count": 13,
     "metadata": {},
     "output_type": "execute_result"
    }
   ],
   "source": [
    "len(acts)"
   ]
  },
  {
   "cell_type": "code",
   "execution_count": 14,
   "id": "00473075-65c6-4643-9292-18e95df8490b",
   "metadata": {},
   "outputs": [],
   "source": [
    "charnum = {}\n",
    "\n",
    "connections = {}\n",
    "for i in range(len(characters)-1):\n",
    "    for j in range(i+1,len(characters)):\n",
    "        connections[(characters[i],characters[j])] = 0\n",
    "\n",
    "for k in characters:\n",
    "    charnum[k] = 0\n",
    "\n",
    "for i in acts:\n",
    "    for j in i.split('SCENE')[1:]:\n",
    "        scenechars = []\n",
    "        for k in characters:\n",
    "            if j.find(k) != -1:\n",
    "                scenechars.append(k)\n",
    "                charnum[k] += 1\n",
    "        for a in range(len(scenechars)-1):\n",
    "            for b in range(a+1,len(scenechars)):\n",
    "                connections[(scenechars[a],scenechars[b])] += 1"
   ]
  },
  {
   "cell_type": "markdown",
   "id": "3b402587-82ec-41b4-b050-0fdee26d5f2f",
   "metadata": {},
   "source": [
    "The following are all the characters in the play and the number of scenes that they appear in. This information will be used as nodes in the later visualization."
   ]
  },
  {
   "cell_type": "code",
   "execution_count": 15,
   "id": "4749a288-b45a-40c5-b63f-788f304e6da3",
   "metadata": {},
   "outputs": [
    {
     "data": {
      "text/plain": [
       "{'MERCUTIO': 4,\n",
       " 'PARIS': 5,\n",
       " 'MONTAGUE': 3,\n",
       " 'LADY MONTAGUE': 1,\n",
       " 'ROMEO': 14,\n",
       " 'BENVOLIO': 7,\n",
       " 'ABRAM': 1,\n",
       " 'BALTHASAR': 2,\n",
       " 'CAPULET': 12,\n",
       " 'LADY CAPULET': 10,\n",
       " 'JULIET': 11,\n",
       " 'TYBALT': 3,\n",
       " 'CAPULET’S COUSIN': 1,\n",
       " 'NURSE': 11,\n",
       " 'PETER': 2,\n",
       " 'SAMPSON': 1,\n",
       " 'GREGORY': 1,\n",
       " 'FRIAR LAWRENCE': 7,\n",
       " 'FRIAR JOHN': 1}"
      ]
     },
     "execution_count": 15,
     "metadata": {},
     "output_type": "execute_result"
    }
   ],
   "source": [
    "charnum"
   ]
  },
  {
   "cell_type": "markdown",
   "id": "bb8e5259-17a3-437c-928b-61eb9fc34cee",
   "metadata": {},
   "source": [
    "The following code shows how often, if at all, characters in the play interract with each other."
   ]
  },
  {
   "cell_type": "code",
   "execution_count": 16,
   "id": "bf5a6cce-d7ba-4154-b304-57aad4b7cb62",
   "metadata": {
    "tags": []
   },
   "outputs": [
    {
     "data": {
      "text/plain": [
       "{('MERCUTIO', 'PARIS'): 0,\n",
       " ('MERCUTIO', 'MONTAGUE'): 1,\n",
       " ('MERCUTIO', 'LADY MONTAGUE'): 0,\n",
       " ('MERCUTIO', 'ROMEO'): 4,\n",
       " ('MERCUTIO', 'BENVOLIO'): 4,\n",
       " ('MERCUTIO', 'ABRAM'): 0,\n",
       " ('MERCUTIO', 'BALTHASAR'): 0,\n",
       " ('MERCUTIO', 'CAPULET'): 1,\n",
       " ('MERCUTIO', 'LADY CAPULET'): 1,\n",
       " ('MERCUTIO', 'JULIET'): 0,\n",
       " ('MERCUTIO', 'TYBALT'): 1,\n",
       " ('MERCUTIO', 'CAPULET’S COUSIN'): 0,\n",
       " ('MERCUTIO', 'NURSE'): 1,\n",
       " ('MERCUTIO', 'PETER'): 1,\n",
       " ('MERCUTIO', 'SAMPSON'): 0,\n",
       " ('MERCUTIO', 'GREGORY'): 0,\n",
       " ('MERCUTIO', 'FRIAR LAWRENCE'): 0,\n",
       " ('MERCUTIO', 'FRIAR JOHN'): 0,\n",
       " ('PARIS', 'MONTAGUE'): 1,\n",
       " ('PARIS', 'LADY MONTAGUE'): 0,\n",
       " ('PARIS', 'ROMEO'): 2,\n",
       " ('PARIS', 'BENVOLIO'): 1,\n",
       " ('PARIS', 'ABRAM'): 0,\n",
       " ('PARIS', 'BALTHASAR'): 1,\n",
       " ('PARIS', 'CAPULET'): 4,\n",
       " ('PARIS', 'LADY CAPULET'): 3,\n",
       " ('PARIS', 'JULIET'): 2,\n",
       " ('PARIS', 'TYBALT'): 0,\n",
       " ('PARIS', 'CAPULET’S COUSIN'): 0,\n",
       " ('PARIS', 'NURSE'): 1,\n",
       " ('PARIS', 'PETER'): 1,\n",
       " ('PARIS', 'SAMPSON'): 0,\n",
       " ('PARIS', 'GREGORY'): 0,\n",
       " ('PARIS', 'FRIAR LAWRENCE'): 3,\n",
       " ('PARIS', 'FRIAR JOHN'): 0,\n",
       " ('MONTAGUE', 'LADY MONTAGUE'): 1,\n",
       " ('MONTAGUE', 'ROMEO'): 3,\n",
       " ('MONTAGUE', 'BENVOLIO'): 2,\n",
       " ('MONTAGUE', 'ABRAM'): 1,\n",
       " ('MONTAGUE', 'BALTHASAR'): 1,\n",
       " ('MONTAGUE', 'CAPULET'): 3,\n",
       " ('MONTAGUE', 'LADY CAPULET'): 3,\n",
       " ('MONTAGUE', 'JULIET'): 1,\n",
       " ('MONTAGUE', 'TYBALT'): 2,\n",
       " ('MONTAGUE', 'CAPULET’S COUSIN'): 0,\n",
       " ('MONTAGUE', 'NURSE'): 0,\n",
       " ('MONTAGUE', 'PETER'): 0,\n",
       " ('MONTAGUE', 'SAMPSON'): 1,\n",
       " ('MONTAGUE', 'GREGORY'): 1,\n",
       " ('MONTAGUE', 'FRIAR LAWRENCE'): 1,\n",
       " ('MONTAGUE', 'FRIAR JOHN'): 0,\n",
       " ('LADY MONTAGUE', 'ROMEO'): 1,\n",
       " ('LADY MONTAGUE', 'BENVOLIO'): 1,\n",
       " ('LADY MONTAGUE', 'ABRAM'): 1,\n",
       " ('LADY MONTAGUE', 'BALTHASAR'): 0,\n",
       " ('LADY MONTAGUE', 'CAPULET'): 1,\n",
       " ('LADY MONTAGUE', 'LADY CAPULET'): 1,\n",
       " ('LADY MONTAGUE', 'JULIET'): 0,\n",
       " ('LADY MONTAGUE', 'TYBALT'): 1,\n",
       " ('LADY MONTAGUE', 'CAPULET’S COUSIN'): 0,\n",
       " ('LADY MONTAGUE', 'NURSE'): 0,\n",
       " ('LADY MONTAGUE', 'PETER'): 0,\n",
       " ('LADY MONTAGUE', 'SAMPSON'): 1,\n",
       " ('LADY MONTAGUE', 'GREGORY'): 1,\n",
       " ('LADY MONTAGUE', 'FRIAR LAWRENCE'): 0,\n",
       " ('LADY MONTAGUE', 'FRIAR JOHN'): 0,\n",
       " ('ROMEO', 'BENVOLIO'): 7,\n",
       " ('ROMEO', 'ABRAM'): 1,\n",
       " ('ROMEO', 'BALTHASAR'): 2,\n",
       " ('ROMEO', 'CAPULET'): 6,\n",
       " ('ROMEO', 'LADY CAPULET'): 4,\n",
       " ('ROMEO', 'JULIET'): 5,\n",
       " ('ROMEO', 'TYBALT'): 3,\n",
       " ('ROMEO', 'CAPULET’S COUSIN'): 1,\n",
       " ('ROMEO', 'NURSE'): 5,\n",
       " ('ROMEO', 'PETER'): 1,\n",
       " ('ROMEO', 'SAMPSON'): 1,\n",
       " ('ROMEO', 'GREGORY'): 1,\n",
       " ('ROMEO', 'FRIAR LAWRENCE'): 4,\n",
       " ('ROMEO', 'FRIAR JOHN'): 0,\n",
       " ('BENVOLIO', 'ABRAM'): 1,\n",
       " ('BENVOLIO', 'BALTHASAR'): 0,\n",
       " ('BENVOLIO', 'CAPULET'): 4,\n",
       " ('BENVOLIO', 'LADY CAPULET'): 2,\n",
       " ('BENVOLIO', 'JULIET'): 1,\n",
       " ('BENVOLIO', 'TYBALT'): 3,\n",
       " ('BENVOLIO', 'CAPULET’S COUSIN'): 1,\n",
       " ('BENVOLIO', 'NURSE'): 2,\n",
       " ('BENVOLIO', 'PETER'): 1,\n",
       " ('BENVOLIO', 'SAMPSON'): 1,\n",
       " ('BENVOLIO', 'GREGORY'): 1,\n",
       " ('BENVOLIO', 'FRIAR LAWRENCE'): 0,\n",
       " ('BENVOLIO', 'FRIAR JOHN'): 0,\n",
       " ('ABRAM', 'BALTHASAR'): 0,\n",
       " ('ABRAM', 'CAPULET'): 1,\n",
       " ('ABRAM', 'LADY CAPULET'): 1,\n",
       " ('ABRAM', 'JULIET'): 0,\n",
       " ('ABRAM', 'TYBALT'): 1,\n",
       " ('ABRAM', 'CAPULET’S COUSIN'): 0,\n",
       " ('ABRAM', 'NURSE'): 0,\n",
       " ('ABRAM', 'PETER'): 0,\n",
       " ('ABRAM', 'SAMPSON'): 1,\n",
       " ('ABRAM', 'GREGORY'): 1,\n",
       " ('ABRAM', 'FRIAR LAWRENCE'): 0,\n",
       " ('ABRAM', 'FRIAR JOHN'): 0,\n",
       " ('BALTHASAR', 'CAPULET'): 1,\n",
       " ('BALTHASAR', 'LADY CAPULET'): 1,\n",
       " ('BALTHASAR', 'JULIET'): 1,\n",
       " ('BALTHASAR', 'TYBALT'): 0,\n",
       " ('BALTHASAR', 'CAPULET’S COUSIN'): 0,\n",
       " ('BALTHASAR', 'NURSE'): 0,\n",
       " ('BALTHASAR', 'PETER'): 0,\n",
       " ('BALTHASAR', 'SAMPSON'): 0,\n",
       " ('BALTHASAR', 'GREGORY'): 0,\n",
       " ('BALTHASAR', 'FRIAR LAWRENCE'): 1,\n",
       " ('BALTHASAR', 'FRIAR JOHN'): 0,\n",
       " ('CAPULET', 'LADY CAPULET'): 10,\n",
       " ('CAPULET', 'JULIET'): 6,\n",
       " ('CAPULET', 'TYBALT'): 3,\n",
       " ('CAPULET', 'CAPULET’S COUSIN'): 1,\n",
       " ('CAPULET', 'NURSE'): 6,\n",
       " ('CAPULET', 'PETER'): 1,\n",
       " ('CAPULET', 'SAMPSON'): 1,\n",
       " ('CAPULET', 'GREGORY'): 1,\n",
       " ('CAPULET', 'FRIAR LAWRENCE'): 2,\n",
       " ('CAPULET', 'FRIAR JOHN'): 0,\n",
       " ('LADY CAPULET', 'JULIET'): 5,\n",
       " ('LADY CAPULET', 'TYBALT'): 2,\n",
       " ('LADY CAPULET', 'CAPULET’S COUSIN'): 0,\n",
       " ('LADY CAPULET', 'NURSE'): 5,\n",
       " ('LADY CAPULET', 'PETER'): 1,\n",
       " ('LADY CAPULET', 'SAMPSON'): 1,\n",
       " ('LADY CAPULET', 'GREGORY'): 1,\n",
       " ('LADY CAPULET', 'FRIAR LAWRENCE'): 2,\n",
       " ('LADY CAPULET', 'FRIAR JOHN'): 0,\n",
       " ('JULIET', 'TYBALT'): 1,\n",
       " ('JULIET', 'CAPULET’S COUSIN'): 1,\n",
       " ('JULIET', 'NURSE'): 7,\n",
       " ('JULIET', 'PETER'): 0,\n",
       " ('JULIET', 'SAMPSON'): 0,\n",
       " ('JULIET', 'GREGORY'): 0,\n",
       " ('JULIET', 'FRIAR LAWRENCE'): 3,\n",
       " ('JULIET', 'FRIAR JOHN'): 0,\n",
       " ('TYBALT', 'CAPULET’S COUSIN'): 1,\n",
       " ('TYBALT', 'NURSE'): 1,\n",
       " ('TYBALT', 'PETER'): 0,\n",
       " ('TYBALT', 'SAMPSON'): 1,\n",
       " ('TYBALT', 'GREGORY'): 1,\n",
       " ('TYBALT', 'FRIAR LAWRENCE'): 0,\n",
       " ('TYBALT', 'FRIAR JOHN'): 0,\n",
       " ('CAPULET’S COUSIN', 'NURSE'): 1,\n",
       " ('CAPULET’S COUSIN', 'PETER'): 0,\n",
       " ('CAPULET’S COUSIN', 'SAMPSON'): 0,\n",
       " ('CAPULET’S COUSIN', 'GREGORY'): 0,\n",
       " ('CAPULET’S COUSIN', 'FRIAR LAWRENCE'): 0,\n",
       " ('CAPULET’S COUSIN', 'FRIAR JOHN'): 0,\n",
       " ('NURSE', 'PETER'): 2,\n",
       " ('NURSE', 'SAMPSON'): 0,\n",
       " ('NURSE', 'GREGORY'): 0,\n",
       " ('NURSE', 'FRIAR LAWRENCE'): 2,\n",
       " ('NURSE', 'FRIAR JOHN'): 0,\n",
       " ('PETER', 'SAMPSON'): 0,\n",
       " ('PETER', 'GREGORY'): 0,\n",
       " ('PETER', 'FRIAR LAWRENCE'): 1,\n",
       " ('PETER', 'FRIAR JOHN'): 0,\n",
       " ('SAMPSON', 'GREGORY'): 1,\n",
       " ('SAMPSON', 'FRIAR LAWRENCE'): 0,\n",
       " ('SAMPSON', 'FRIAR JOHN'): 0,\n",
       " ('GREGORY', 'FRIAR LAWRENCE'): 0,\n",
       " ('GREGORY', 'FRIAR JOHN'): 0,\n",
       " ('FRIAR LAWRENCE', 'FRIAR JOHN'): 1}"
      ]
     },
     "execution_count": 16,
     "metadata": {},
     "output_type": "execute_result"
    }
   ],
   "source": [
    "connections"
   ]
  },
  {
   "cell_type": "code",
   "execution_count": 17,
   "id": "1a561843-c83e-4fa4-9add-3bae852804ee",
   "metadata": {},
   "outputs": [
    {
     "name": "stdout",
     "output_type": "stream",
     "text": [
      "MERCUTIO 4\n",
      "PARIS 5\n",
      "MONTAGUE 3\n",
      "LADY MONTAGUE 1\n",
      "ROMEO 14\n",
      "BENVOLIO 7\n",
      "ABRAM 1\n",
      "BALTHASAR 2\n",
      "CAPULET 12\n",
      "LADY CAPULET 10\n",
      "JULIET 11\n",
      "TYBALT 3\n",
      "CAPULET’S COUSIN 1\n",
      "NURSE 11\n",
      "PETER 2\n",
      "SAMPSON 1\n",
      "GREGORY 1\n",
      "FRIAR LAWRENCE 7\n",
      "FRIAR JOHN 1\n"
     ]
    }
   ],
   "source": [
    "for k,v in charnum.items():\n",
    "    print(k,v)"
   ]
  },
  {
   "cell_type": "markdown",
   "id": "af206f81-19e7-4375-a5e1-97cb174ab2d5",
   "metadata": {},
   "source": [
    "The following code creates the nodes for the visualization."
   ]
  },
  {
   "cell_type": "code",
   "execution_count": 18,
   "id": "f549a50b-8336-4155-8b2f-2bda2ad74913",
   "metadata": {},
   "outputs": [
    {
     "data": {
      "text/plain": [
       "[{'data': {'id': 'MERCUTIO', 'label': 'Mercutio', 'size': '4'}},\n",
       " {'data': {'id': 'PARIS', 'label': 'Paris', 'size': '5'}},\n",
       " {'data': {'id': 'MONTAGUE', 'label': 'Montague', 'size': '3'}},\n",
       " {'data': {'id': 'LADY MONTAGUE', 'label': 'Lady Montague', 'size': '1'}},\n",
       " {'data': {'id': 'ROMEO', 'label': 'Romeo', 'size': '14'}},\n",
       " {'data': {'id': 'BENVOLIO', 'label': 'Benvolio', 'size': '7'}},\n",
       " {'data': {'id': 'ABRAM', 'label': 'Abram', 'size': '1'}},\n",
       " {'data': {'id': 'BALTHASAR', 'label': 'Balthasar', 'size': '2'}},\n",
       " {'data': {'id': 'CAPULET', 'label': 'Capulet', 'size': '12'}},\n",
       " {'data': {'id': 'LADY CAPULET', 'label': 'Lady Capulet', 'size': '10'}},\n",
       " {'data': {'id': 'JULIET', 'label': 'Juliet', 'size': '11'}},\n",
       " {'data': {'id': 'TYBALT', 'label': 'Tybalt', 'size': '3'}},\n",
       " {'data': {'id': 'CAPULET’S COUSIN',\n",
       "   'label': 'Capulet’S Cousin',\n",
       "   'size': '1'}},\n",
       " {'data': {'id': 'NURSE', 'label': 'Nurse', 'size': '11'}},\n",
       " {'data': {'id': 'PETER', 'label': 'Peter', 'size': '2'}},\n",
       " {'data': {'id': 'SAMPSON', 'label': 'Sampson', 'size': '1'}},\n",
       " {'data': {'id': 'GREGORY', 'label': 'Gregory', 'size': '1'}},\n",
       " {'data': {'id': 'FRIAR LAWRENCE', 'label': 'Friar Lawrence', 'size': '7'}},\n",
       " {'data': {'id': 'FRIAR JOHN', 'label': 'Friar John', 'size': '1'}}]"
      ]
     },
     "execution_count": 18,
     "metadata": {},
     "output_type": "execute_result"
    }
   ],
   "source": [
    "graphitems = []\n",
    "\n",
    "for k,v in charnum.items():\n",
    "    dashnode = {'data': {'id': k,\n",
    "                         'label': k.title(),\n",
    "                         'size': str(v)}}\n",
    "    graphitems.append(dashnode)\n",
    "    \n",
    "graphitems"
   ]
  },
  {
   "cell_type": "markdown",
   "id": "2bd7dfc5-8612-4d02-a6b0-a46866d6f66e",
   "metadata": {},
   "source": [
    "This code is similar to the code above but for edges. The weight represents the number of scenes that characters share together."
   ]
  },
  {
   "cell_type": "code",
   "execution_count": 19,
   "id": "462ddc5a-7880-44f2-8d40-214bc64076cb",
   "metadata": {},
   "outputs": [
    {
     "data": {
      "text/plain": [
       "[{'data': {'id': 'MERCUTIO', 'label': 'Mercutio', 'size': '4'}},\n",
       " {'data': {'id': 'PARIS', 'label': 'Paris', 'size': '5'}},\n",
       " {'data': {'id': 'MONTAGUE', 'label': 'Montague', 'size': '3'}},\n",
       " {'data': {'id': 'LADY MONTAGUE', 'label': 'Lady Montague', 'size': '1'}},\n",
       " {'data': {'id': 'ROMEO', 'label': 'Romeo', 'size': '14'}},\n",
       " {'data': {'id': 'BENVOLIO', 'label': 'Benvolio', 'size': '7'}},\n",
       " {'data': {'id': 'ABRAM', 'label': 'Abram', 'size': '1'}},\n",
       " {'data': {'id': 'BALTHASAR', 'label': 'Balthasar', 'size': '2'}},\n",
       " {'data': {'id': 'CAPULET', 'label': 'Capulet', 'size': '12'}},\n",
       " {'data': {'id': 'LADY CAPULET', 'label': 'Lady Capulet', 'size': '10'}},\n",
       " {'data': {'id': 'JULIET', 'label': 'Juliet', 'size': '11'}},\n",
       " {'data': {'id': 'TYBALT', 'label': 'Tybalt', 'size': '3'}},\n",
       " {'data': {'id': 'CAPULET’S COUSIN',\n",
       "   'label': 'Capulet’S Cousin',\n",
       "   'size': '1'}},\n",
       " {'data': {'id': 'NURSE', 'label': 'Nurse', 'size': '11'}},\n",
       " {'data': {'id': 'PETER', 'label': 'Peter', 'size': '2'}},\n",
       " {'data': {'id': 'SAMPSON', 'label': 'Sampson', 'size': '1'}},\n",
       " {'data': {'id': 'GREGORY', 'label': 'Gregory', 'size': '1'}},\n",
       " {'data': {'id': 'FRIAR LAWRENCE', 'label': 'Friar Lawrence', 'size': '7'}},\n",
       " {'data': {'id': 'FRIAR JOHN', 'label': 'Friar John', 'size': '1'}},\n",
       " {'data': {'source': 'MERCUTIO', 'target': 'MONTAGUE', 'weight': 1}},\n",
       " {'data': {'source': 'MERCUTIO', 'target': 'ROMEO', 'weight': 4}},\n",
       " {'data': {'source': 'MERCUTIO', 'target': 'BENVOLIO', 'weight': 4}},\n",
       " {'data': {'source': 'MERCUTIO', 'target': 'CAPULET', 'weight': 1}},\n",
       " {'data': {'source': 'MERCUTIO', 'target': 'LADY CAPULET', 'weight': 1}},\n",
       " {'data': {'source': 'MERCUTIO', 'target': 'TYBALT', 'weight': 1}},\n",
       " {'data': {'source': 'MERCUTIO', 'target': 'NURSE', 'weight': 1}},\n",
       " {'data': {'source': 'MERCUTIO', 'target': 'PETER', 'weight': 1}},\n",
       " {'data': {'source': 'PARIS', 'target': 'MONTAGUE', 'weight': 1}},\n",
       " {'data': {'source': 'PARIS', 'target': 'ROMEO', 'weight': 2}},\n",
       " {'data': {'source': 'PARIS', 'target': 'BENVOLIO', 'weight': 1}},\n",
       " {'data': {'source': 'PARIS', 'target': 'BALTHASAR', 'weight': 1}},\n",
       " {'data': {'source': 'PARIS', 'target': 'CAPULET', 'weight': 4}},\n",
       " {'data': {'source': 'PARIS', 'target': 'LADY CAPULET', 'weight': 3}},\n",
       " {'data': {'source': 'PARIS', 'target': 'JULIET', 'weight': 2}},\n",
       " {'data': {'source': 'PARIS', 'target': 'NURSE', 'weight': 1}},\n",
       " {'data': {'source': 'PARIS', 'target': 'PETER', 'weight': 1}},\n",
       " {'data': {'source': 'PARIS', 'target': 'FRIAR LAWRENCE', 'weight': 3}},\n",
       " {'data': {'source': 'MONTAGUE', 'target': 'LADY MONTAGUE', 'weight': 1}},\n",
       " {'data': {'source': 'MONTAGUE', 'target': 'ROMEO', 'weight': 3}},\n",
       " {'data': {'source': 'MONTAGUE', 'target': 'BENVOLIO', 'weight': 2}},\n",
       " {'data': {'source': 'MONTAGUE', 'target': 'ABRAM', 'weight': 1}},\n",
       " {'data': {'source': 'MONTAGUE', 'target': 'BALTHASAR', 'weight': 1}},\n",
       " {'data': {'source': 'MONTAGUE', 'target': 'CAPULET', 'weight': 3}},\n",
       " {'data': {'source': 'MONTAGUE', 'target': 'LADY CAPULET', 'weight': 3}},\n",
       " {'data': {'source': 'MONTAGUE', 'target': 'JULIET', 'weight': 1}},\n",
       " {'data': {'source': 'MONTAGUE', 'target': 'TYBALT', 'weight': 2}},\n",
       " {'data': {'source': 'MONTAGUE', 'target': 'SAMPSON', 'weight': 1}},\n",
       " {'data': {'source': 'MONTAGUE', 'target': 'GREGORY', 'weight': 1}},\n",
       " {'data': {'source': 'MONTAGUE', 'target': 'FRIAR LAWRENCE', 'weight': 1}},\n",
       " {'data': {'source': 'LADY MONTAGUE', 'target': 'ROMEO', 'weight': 1}},\n",
       " {'data': {'source': 'LADY MONTAGUE', 'target': 'BENVOLIO', 'weight': 1}},\n",
       " {'data': {'source': 'LADY MONTAGUE', 'target': 'ABRAM', 'weight': 1}},\n",
       " {'data': {'source': 'LADY MONTAGUE', 'target': 'CAPULET', 'weight': 1}},\n",
       " {'data': {'source': 'LADY MONTAGUE', 'target': 'LADY CAPULET', 'weight': 1}},\n",
       " {'data': {'source': 'LADY MONTAGUE', 'target': 'TYBALT', 'weight': 1}},\n",
       " {'data': {'source': 'LADY MONTAGUE', 'target': 'SAMPSON', 'weight': 1}},\n",
       " {'data': {'source': 'LADY MONTAGUE', 'target': 'GREGORY', 'weight': 1}},\n",
       " {'data': {'source': 'ROMEO', 'target': 'BENVOLIO', 'weight': 7}},\n",
       " {'data': {'source': 'ROMEO', 'target': 'ABRAM', 'weight': 1}},\n",
       " {'data': {'source': 'ROMEO', 'target': 'BALTHASAR', 'weight': 2}},\n",
       " {'data': {'source': 'ROMEO', 'target': 'CAPULET', 'weight': 6}},\n",
       " {'data': {'source': 'ROMEO', 'target': 'LADY CAPULET', 'weight': 4}},\n",
       " {'data': {'source': 'ROMEO', 'target': 'JULIET', 'weight': 5}},\n",
       " {'data': {'source': 'ROMEO', 'target': 'TYBALT', 'weight': 3}},\n",
       " {'data': {'source': 'ROMEO', 'target': 'CAPULET’S COUSIN', 'weight': 1}},\n",
       " {'data': {'source': 'ROMEO', 'target': 'NURSE', 'weight': 5}},\n",
       " {'data': {'source': 'ROMEO', 'target': 'PETER', 'weight': 1}},\n",
       " {'data': {'source': 'ROMEO', 'target': 'SAMPSON', 'weight': 1}},\n",
       " {'data': {'source': 'ROMEO', 'target': 'GREGORY', 'weight': 1}},\n",
       " {'data': {'source': 'ROMEO', 'target': 'FRIAR LAWRENCE', 'weight': 4}},\n",
       " {'data': {'source': 'BENVOLIO', 'target': 'ABRAM', 'weight': 1}},\n",
       " {'data': {'source': 'BENVOLIO', 'target': 'CAPULET', 'weight': 4}},\n",
       " {'data': {'source': 'BENVOLIO', 'target': 'LADY CAPULET', 'weight': 2}},\n",
       " {'data': {'source': 'BENVOLIO', 'target': 'JULIET', 'weight': 1}},\n",
       " {'data': {'source': 'BENVOLIO', 'target': 'TYBALT', 'weight': 3}},\n",
       " {'data': {'source': 'BENVOLIO', 'target': 'CAPULET’S COUSIN', 'weight': 1}},\n",
       " {'data': {'source': 'BENVOLIO', 'target': 'NURSE', 'weight': 2}},\n",
       " {'data': {'source': 'BENVOLIO', 'target': 'PETER', 'weight': 1}},\n",
       " {'data': {'source': 'BENVOLIO', 'target': 'SAMPSON', 'weight': 1}},\n",
       " {'data': {'source': 'BENVOLIO', 'target': 'GREGORY', 'weight': 1}},\n",
       " {'data': {'source': 'ABRAM', 'target': 'CAPULET', 'weight': 1}},\n",
       " {'data': {'source': 'ABRAM', 'target': 'LADY CAPULET', 'weight': 1}},\n",
       " {'data': {'source': 'ABRAM', 'target': 'TYBALT', 'weight': 1}},\n",
       " {'data': {'source': 'ABRAM', 'target': 'SAMPSON', 'weight': 1}},\n",
       " {'data': {'source': 'ABRAM', 'target': 'GREGORY', 'weight': 1}},\n",
       " {'data': {'source': 'BALTHASAR', 'target': 'CAPULET', 'weight': 1}},\n",
       " {'data': {'source': 'BALTHASAR', 'target': 'LADY CAPULET', 'weight': 1}},\n",
       " {'data': {'source': 'BALTHASAR', 'target': 'JULIET', 'weight': 1}},\n",
       " {'data': {'source': 'BALTHASAR', 'target': 'FRIAR LAWRENCE', 'weight': 1}},\n",
       " {'data': {'source': 'CAPULET', 'target': 'LADY CAPULET', 'weight': 10}},\n",
       " {'data': {'source': 'CAPULET', 'target': 'JULIET', 'weight': 6}},\n",
       " {'data': {'source': 'CAPULET', 'target': 'TYBALT', 'weight': 3}},\n",
       " {'data': {'source': 'CAPULET', 'target': 'CAPULET’S COUSIN', 'weight': 1}},\n",
       " {'data': {'source': 'CAPULET', 'target': 'NURSE', 'weight': 6}},\n",
       " {'data': {'source': 'CAPULET', 'target': 'PETER', 'weight': 1}},\n",
       " {'data': {'source': 'CAPULET', 'target': 'SAMPSON', 'weight': 1}},\n",
       " {'data': {'source': 'CAPULET', 'target': 'GREGORY', 'weight': 1}},\n",
       " {'data': {'source': 'CAPULET', 'target': 'FRIAR LAWRENCE', 'weight': 2}},\n",
       " {'data': {'source': 'LADY CAPULET', 'target': 'JULIET', 'weight': 5}},\n",
       " {'data': {'source': 'LADY CAPULET', 'target': 'TYBALT', 'weight': 2}},\n",
       " {'data': {'source': 'LADY CAPULET', 'target': 'NURSE', 'weight': 5}},\n",
       " {'data': {'source': 'LADY CAPULET', 'target': 'PETER', 'weight': 1}},\n",
       " {'data': {'source': 'LADY CAPULET', 'target': 'SAMPSON', 'weight': 1}},\n",
       " {'data': {'source': 'LADY CAPULET', 'target': 'GREGORY', 'weight': 1}},\n",
       " {'data': {'source': 'LADY CAPULET', 'target': 'FRIAR LAWRENCE', 'weight': 2}},\n",
       " {'data': {'source': 'JULIET', 'target': 'TYBALT', 'weight': 1}},\n",
       " {'data': {'source': 'JULIET', 'target': 'CAPULET’S COUSIN', 'weight': 1}},\n",
       " {'data': {'source': 'JULIET', 'target': 'NURSE', 'weight': 7}},\n",
       " {'data': {'source': 'JULIET', 'target': 'FRIAR LAWRENCE', 'weight': 3}},\n",
       " {'data': {'source': 'TYBALT', 'target': 'CAPULET’S COUSIN', 'weight': 1}},\n",
       " {'data': {'source': 'TYBALT', 'target': 'NURSE', 'weight': 1}},\n",
       " {'data': {'source': 'TYBALT', 'target': 'SAMPSON', 'weight': 1}},\n",
       " {'data': {'source': 'TYBALT', 'target': 'GREGORY', 'weight': 1}},\n",
       " {'data': {'source': 'CAPULET’S COUSIN', 'target': 'NURSE', 'weight': 1}},\n",
       " {'data': {'source': 'NURSE', 'target': 'PETER', 'weight': 2}},\n",
       " {'data': {'source': 'NURSE', 'target': 'FRIAR LAWRENCE', 'weight': 2}},\n",
       " {'data': {'source': 'PETER', 'target': 'FRIAR LAWRENCE', 'weight': 1}},\n",
       " {'data': {'source': 'SAMPSON', 'target': 'GREGORY', 'weight': 1}},\n",
       " {'data': {'source': 'FRIAR LAWRENCE', 'target': 'FRIAR JOHN', 'weight': 1}}]"
      ]
     },
     "execution_count": 19,
     "metadata": {},
     "output_type": "execute_result"
    }
   ],
   "source": [
    "graphitems = []\n",
    "\n",
    "for k,v in charnum.items():\n",
    "    dashnode = {'data': {'id': k,\n",
    "                         'label': k.title(),\n",
    "                         'size': str(v)}}\n",
    "    graphitems.append(dashnode)\n",
    "\n",
    "for k,v in connections.items():\n",
    "    if v != 0:\n",
    "        dashedge = {'data': {'source': k[0],\n",
    "                             'target': k[1],\n",
    "                             'weight': v}}\n",
    "        graphitems.append(dashedge)\n",
    "    \n",
    "graphitems"
   ]
  },
  {
   "cell_type": "code",
   "execution_count": 20,
   "id": "30dcd274-ed91-4c45-a6f5-12849303503a",
   "metadata": {},
   "outputs": [
    {
     "name": "stdout",
     "output_type": "stream",
     "text": [
      "10\n"
     ]
    }
   ],
   "source": [
    "graphitems = []\n",
    "\n",
    "for k,v in charnum.items():\n",
    "    dashnode = {'data': {'id': k,\n",
    "                         'label': k.title(),\n",
    "                         'size': str(v)}}\n",
    "    graphitems.append(dashnode)\n",
    "\n",
    "correction_factor = max(connections.values())\n",
    "print(correction_factor)\n",
    "for k,v in connections.items():\n",
    "    if v != 0:\n",
    "        dashedge = {'data': {'source': k[0],\n",
    "                             'target': k[1],\n",
    "                             'weight': v/correction_factor}}\n",
    "        graphitems.append(dashedge)"
   ]
  },
  {
   "cell_type": "code",
   "execution_count": 21,
   "id": "4a242883-acf5-4710-ae5f-399ee2c3e4b2",
   "metadata": {},
   "outputs": [],
   "source": [
    "import networkx as nx\n",
    "import matplotlib.pyplot as plt"
   ]
  },
  {
   "cell_type": "code",
   "execution_count": 22,
   "id": "55fdb861-cef3-485c-8343-78f9db7f8a72",
   "metadata": {},
   "outputs": [
    {
     "data": {
      "text/plain": [
       "[('MERCUTIO', 'MONTAGUE'),\n",
       " ('MERCUTIO', 'ROMEO'),\n",
       " ('MERCUTIO', 'BENVOLIO'),\n",
       " ('MERCUTIO', 'CAPULET'),\n",
       " ('MERCUTIO', 'LADY CAPULET'),\n",
       " ('MERCUTIO', 'TYBALT'),\n",
       " ('MERCUTIO', 'NURSE'),\n",
       " ('MERCUTIO', 'PETER'),\n",
       " ('PARIS', 'MONTAGUE'),\n",
       " ('PARIS', 'ROMEO'),\n",
       " ('PARIS', 'BENVOLIO'),\n",
       " ('PARIS', 'BALTHASAR'),\n",
       " ('PARIS', 'CAPULET'),\n",
       " ('PARIS', 'LADY CAPULET'),\n",
       " ('PARIS', 'JULIET'),\n",
       " ('PARIS', 'NURSE'),\n",
       " ('PARIS', 'PETER'),\n",
       " ('PARIS', 'FRIAR LAWRENCE'),\n",
       " ('MONTAGUE', 'LADY MONTAGUE'),\n",
       " ('MONTAGUE', 'ROMEO'),\n",
       " ('MONTAGUE', 'BENVOLIO'),\n",
       " ('MONTAGUE', 'ABRAM'),\n",
       " ('MONTAGUE', 'BALTHASAR'),\n",
       " ('MONTAGUE', 'CAPULET'),\n",
       " ('MONTAGUE', 'LADY CAPULET'),\n",
       " ('MONTAGUE', 'JULIET'),\n",
       " ('MONTAGUE', 'TYBALT'),\n",
       " ('MONTAGUE', 'SAMPSON'),\n",
       " ('MONTAGUE', 'GREGORY'),\n",
       " ('MONTAGUE', 'FRIAR LAWRENCE'),\n",
       " ('LADY MONTAGUE', 'ROMEO'),\n",
       " ('LADY MONTAGUE', 'BENVOLIO'),\n",
       " ('LADY MONTAGUE', 'ABRAM'),\n",
       " ('LADY MONTAGUE', 'CAPULET'),\n",
       " ('LADY MONTAGUE', 'LADY CAPULET'),\n",
       " ('LADY MONTAGUE', 'TYBALT'),\n",
       " ('LADY MONTAGUE', 'SAMPSON'),\n",
       " ('LADY MONTAGUE', 'GREGORY'),\n",
       " ('ROMEO', 'BENVOLIO'),\n",
       " ('ROMEO', 'ABRAM'),\n",
       " ('ROMEO', 'BALTHASAR'),\n",
       " ('ROMEO', 'CAPULET'),\n",
       " ('ROMEO', 'LADY CAPULET'),\n",
       " ('ROMEO', 'JULIET'),\n",
       " ('ROMEO', 'TYBALT'),\n",
       " ('ROMEO', 'CAPULET’S COUSIN'),\n",
       " ('ROMEO', 'NURSE'),\n",
       " ('ROMEO', 'PETER'),\n",
       " ('ROMEO', 'SAMPSON'),\n",
       " ('ROMEO', 'GREGORY'),\n",
       " ('ROMEO', 'FRIAR LAWRENCE'),\n",
       " ('BENVOLIO', 'ABRAM'),\n",
       " ('BENVOLIO', 'CAPULET'),\n",
       " ('BENVOLIO', 'LADY CAPULET'),\n",
       " ('BENVOLIO', 'JULIET'),\n",
       " ('BENVOLIO', 'TYBALT'),\n",
       " ('BENVOLIO', 'CAPULET’S COUSIN'),\n",
       " ('BENVOLIO', 'NURSE'),\n",
       " ('BENVOLIO', 'PETER'),\n",
       " ('BENVOLIO', 'SAMPSON'),\n",
       " ('BENVOLIO', 'GREGORY'),\n",
       " ('ABRAM', 'CAPULET'),\n",
       " ('ABRAM', 'LADY CAPULET'),\n",
       " ('ABRAM', 'TYBALT'),\n",
       " ('ABRAM', 'SAMPSON'),\n",
       " ('ABRAM', 'GREGORY'),\n",
       " ('BALTHASAR', 'CAPULET'),\n",
       " ('BALTHASAR', 'LADY CAPULET'),\n",
       " ('BALTHASAR', 'JULIET'),\n",
       " ('BALTHASAR', 'FRIAR LAWRENCE'),\n",
       " ('CAPULET', 'LADY CAPULET'),\n",
       " ('CAPULET', 'JULIET'),\n",
       " ('CAPULET', 'TYBALT'),\n",
       " ('CAPULET', 'CAPULET’S COUSIN'),\n",
       " ('CAPULET', 'NURSE'),\n",
       " ('CAPULET', 'PETER'),\n",
       " ('CAPULET', 'SAMPSON'),\n",
       " ('CAPULET', 'GREGORY'),\n",
       " ('CAPULET', 'FRIAR LAWRENCE'),\n",
       " ('LADY CAPULET', 'JULIET'),\n",
       " ('LADY CAPULET', 'TYBALT'),\n",
       " ('LADY CAPULET', 'NURSE'),\n",
       " ('LADY CAPULET', 'PETER'),\n",
       " ('LADY CAPULET', 'SAMPSON'),\n",
       " ('LADY CAPULET', 'GREGORY'),\n",
       " ('LADY CAPULET', 'FRIAR LAWRENCE'),\n",
       " ('JULIET', 'TYBALT'),\n",
       " ('JULIET', 'CAPULET’S COUSIN'),\n",
       " ('JULIET', 'NURSE'),\n",
       " ('JULIET', 'FRIAR LAWRENCE'),\n",
       " ('TYBALT', 'CAPULET’S COUSIN'),\n",
       " ('TYBALT', 'NURSE'),\n",
       " ('TYBALT', 'SAMPSON'),\n",
       " ('TYBALT', 'GREGORY'),\n",
       " ('CAPULET’S COUSIN', 'NURSE'),\n",
       " ('NURSE', 'PETER'),\n",
       " ('NURSE', 'FRIAR LAWRENCE'),\n",
       " ('PETER', 'FRIAR LAWRENCE'),\n",
       " ('SAMPSON', 'GREGORY'),\n",
       " ('FRIAR LAWRENCE', 'FRIAR JOHN')]"
      ]
     },
     "execution_count": 22,
     "metadata": {},
     "output_type": "execute_result"
    }
   ],
   "source": [
    "nxgraphitems = []\n",
    "\n",
    "for k,v in connections.items():\n",
    "    if v != 0:\n",
    "        dashedge = (k[0],k[1])\n",
    "        nxgraphitems.append(dashedge)\n",
    "    \n",
    "nxgraphitems"
   ]
  },
  {
   "cell_type": "code",
   "execution_count": 23,
   "id": "dbb354a6-3a36-47ff-b1f8-11199d3f6cd2",
   "metadata": {},
   "outputs": [],
   "source": [
    "G = nx.Graph()"
   ]
  },
  {
   "cell_type": "code",
   "execution_count": 24,
   "id": "bf3c89bd-7a54-4890-a4c2-9301a104d4bf",
   "metadata": {},
   "outputs": [],
   "source": [
    "G.add_edges_from(nxgraphitems)"
   ]
  },
  {
   "cell_type": "code",
   "execution_count": 25,
   "id": "9593dfcf-bc9e-4d5c-aed4-0197c787271f",
   "metadata": {},
   "outputs": [
    {
     "data": {
      "text/plain": [
       "NodeView(('MERCUTIO', 'MONTAGUE', 'ROMEO', 'BENVOLIO', 'CAPULET', 'LADY CAPULET', 'TYBALT', 'NURSE', 'PETER', 'PARIS', 'BALTHASAR', 'JULIET', 'FRIAR LAWRENCE', 'LADY MONTAGUE', 'ABRAM', 'SAMPSON', 'GREGORY', 'CAPULET’S COUSIN', 'FRIAR JOHN'))"
      ]
     },
     "execution_count": 25,
     "metadata": {},
     "output_type": "execute_result"
    }
   ],
   "source": [
    "G.nodes"
   ]
  },
  {
   "cell_type": "code",
   "execution_count": 26,
   "id": "30ef08c5-0b9d-461f-8a09-8e1b12503b92",
   "metadata": {},
   "outputs": [
    {
     "data": {
      "text/plain": [
       "{'MERCUTIO': 0.4444444444444444,\n",
       " 'MONTAGUE': 0.7777777777777777,\n",
       " 'ROMEO': 0.9444444444444444,\n",
       " 'BENVOLIO': 0.8333333333333333,\n",
       " 'CAPULET': 0.9444444444444444,\n",
       " 'LADY CAPULET': 0.8888888888888888,\n",
       " 'TYBALT': 0.7222222222222222,\n",
       " 'NURSE': 0.611111111111111,\n",
       " 'PETER': 0.4444444444444444,\n",
       " 'PARIS': 0.5555555555555556,\n",
       " 'BALTHASAR': 0.38888888888888884,\n",
       " 'JULIET': 0.611111111111111,\n",
       " 'FRIAR LAWRENCE': 0.5555555555555556,\n",
       " 'LADY MONTAGUE': 0.5,\n",
       " 'ABRAM': 0.5,\n",
       " 'SAMPSON': 0.5,\n",
       " 'GREGORY': 0.5,\n",
       " 'CAPULET’S COUSIN': 0.3333333333333333,\n",
       " 'FRIAR JOHN': 0.05555555555555555}"
      ]
     },
     "execution_count": 26,
     "metadata": {},
     "output_type": "execute_result"
    }
   ],
   "source": [
    "nx.degree_centrality(G)"
   ]
  },
  {
   "cell_type": "markdown",
   "id": "ab9c3f61-d138-4988-983a-5c81bbff749d",
   "metadata": {},
   "source": [
    "The following shows that Romeo and Capulet have the same highest degree centrality while Juliet is closer to being the middle which means that Juliet does not share the same number of scenes with other characters in the play."
   ]
  },
  {
   "cell_type": "code",
   "execution_count": 27,
   "id": "0ec456a0-7644-42a4-88e1-3269decb1c50",
   "metadata": {},
   "outputs": [
    {
     "name": "stdout",
     "output_type": "stream",
     "text": [
      "Romeo          : 0.944\n",
      "Capulet        : 0.944\n",
      "Lady Capulet   : 0.889\n",
      "Benvolio       : 0.833\n",
      "Montague       : 0.778\n",
      "Tybalt         : 0.722\n",
      "Nurse          : 0.611\n",
      "Juliet         : 0.611\n",
      "Paris          : 0.556\n",
      "Friar Lawrence : 0.556\n",
      "Lady Montague  : 0.500\n",
      "Abram          : 0.500\n",
      "Sampson        : 0.500\n",
      "Gregory        : 0.500\n",
      "Mercutio       : 0.444\n",
      "Peter          : 0.444\n",
      "Balthasar      : 0.389\n",
      "Capulet’S Cousin: 0.333\n",
      "Friar John     : 0.056\n"
     ]
    }
   ],
   "source": [
    "dc = nx.degree_centrality(G)\n",
    "for i in sorted(dc, key=dc.get, reverse=True):\n",
    "    print('{:15s}: {:.3f}'.format(i.title(), dc[i]))"
   ]
  },
  {
   "cell_type": "markdown",
   "id": "031429ac-17e3-4cc8-b26f-b936ff5bd8b4",
   "metadata": {},
   "source": [
    "The following two examples highlight what was shown in the previous code. Romeo has more \"neighbours\" meaning other characters that he interacts with than Juliet."
   ]
  },
  {
   "cell_type": "code",
   "execution_count": 28,
   "id": "eb401b87-13a8-4579-919b-c9f56c58ff59",
   "metadata": {},
   "outputs": [
    {
     "data": {
      "text/plain": [
       "['MERCUTIO',\n",
       " 'PARIS',\n",
       " 'MONTAGUE',\n",
       " 'LADY MONTAGUE',\n",
       " 'BENVOLIO',\n",
       " 'ABRAM',\n",
       " 'BALTHASAR',\n",
       " 'CAPULET',\n",
       " 'LADY CAPULET',\n",
       " 'JULIET',\n",
       " 'TYBALT',\n",
       " 'CAPULET’S COUSIN',\n",
       " 'NURSE',\n",
       " 'PETER',\n",
       " 'SAMPSON',\n",
       " 'GREGORY',\n",
       " 'FRIAR LAWRENCE']"
      ]
     },
     "execution_count": 28,
     "metadata": {},
     "output_type": "execute_result"
    }
   ],
   "source": [
    "list(G.neighbors('ROMEO'))"
   ]
  },
  {
   "cell_type": "code",
   "execution_count": 29,
   "id": "298d1c60-fff8-4257-ac7e-f3e58875dda5",
   "metadata": {},
   "outputs": [
    {
     "data": {
      "text/plain": [
       "['PARIS',\n",
       " 'MONTAGUE',\n",
       " 'ROMEO',\n",
       " 'BENVOLIO',\n",
       " 'BALTHASAR',\n",
       " 'CAPULET',\n",
       " 'LADY CAPULET',\n",
       " 'TYBALT',\n",
       " 'CAPULET’S COUSIN',\n",
       " 'NURSE',\n",
       " 'FRIAR LAWRENCE']"
      ]
     },
     "execution_count": 29,
     "metadata": {},
     "output_type": "execute_result"
    }
   ],
   "source": [
    "list(G.neighbors('JULIET'))"
   ]
  },
  {
   "cell_type": "code",
   "execution_count": 30,
   "id": "3a9348b6-fcf0-44ee-82d8-ac074d2d452c",
   "metadata": {},
   "outputs": [
    {
     "data": {
      "text/plain": [
       "['JULIET', 'MONTAGUE', 'MERCUTIO']"
      ]
     },
     "execution_count": 30,
     "metadata": {},
     "output_type": "execute_result"
    }
   ],
   "source": [
    "nx.shortest_path(G,'JULIET','MERCUTIO')"
   ]
  },
  {
   "cell_type": "code",
   "execution_count": 31,
   "id": "0a03e75e-4e67-446b-97d5-78c060a7b282",
   "metadata": {},
   "outputs": [
    {
     "data": {
      "text/plain": [
       "{'MERCUTIO': 0.002749247847287063,\n",
       " 'MONTAGUE': 0.04637410519763461,\n",
       " 'ROMEO': 0.08284573088494658,\n",
       " 'BENVOLIO': 0.04537296400041499,\n",
       " 'CAPULET': 0.08284573088494658,\n",
       " 'LADY CAPULET': 0.06421827990455442,\n",
       " 'TYBALT': 0.025842929764498392,\n",
       " 'NURSE': 0.019421101774042947,\n",
       " 'PETER': 0.004746342981637099,\n",
       " 'PARIS': 0.007713455752671439,\n",
       " 'BALTHASAR': 0.0,\n",
       " 'JULIET': 0.018108724971470074,\n",
       " 'FRIAR LAWRENCE': 0.11610125531694157,\n",
       " 'LADY MONTAGUE': 0.0,\n",
       " 'ABRAM': 0.0,\n",
       " 'SAMPSON': 0.0,\n",
       " 'GREGORY': 0.0,\n",
       " 'CAPULET’S COUSIN': 0.0,\n",
       " 'FRIAR JOHN': 0.0}"
      ]
     },
     "execution_count": 31,
     "metadata": {},
     "output_type": "execute_result"
    }
   ],
   "source": [
    "nx.betweenness_centrality(G)"
   ]
  },
  {
   "cell_type": "code",
   "execution_count": 32,
   "id": "c9a8068c-5c5b-43ba-b6bf-944b56ce54fc",
   "metadata": {},
   "outputs": [
    {
     "name": "stdout",
     "output_type": "stream",
     "text": [
      "Friar Lawrence : 0.116\n",
      "Romeo          : 0.083\n",
      "Capulet        : 0.083\n",
      "Lady Capulet   : 0.064\n",
      "Montague       : 0.046\n",
      "Benvolio       : 0.045\n",
      "Tybalt         : 0.026\n",
      "Nurse          : 0.019\n",
      "Juliet         : 0.018\n",
      "Paris          : 0.008\n",
      "Peter          : 0.005\n",
      "Mercutio       : 0.003\n",
      "Balthasar      : 0.000\n",
      "Lady Montague  : 0.000\n",
      "Abram          : 0.000\n",
      "Sampson        : 0.000\n",
      "Gregory        : 0.000\n",
      "Capulet’S Cousin: 0.000\n",
      "Friar John     : 0.000\n"
     ]
    }
   ],
   "source": [
    "dc = nx.betweenness_centrality(G)\n",
    "for i in sorted(dc, key=dc.get, reverse=True):\n",
    "    print('{:15s}: {:.3f}'.format(i.title(), dc[i]))"
   ]
  },
  {
   "cell_type": "code",
   "execution_count": 33,
   "id": "96d641c9-85c8-47f7-9989-c0eb47c4cde9",
   "metadata": {},
   "outputs": [],
   "source": [
    "from networkx.algorithms.community.centrality import girvan_newman"
   ]
  },
  {
   "cell_type": "code",
   "execution_count": 34,
   "id": "988d01bb-84ab-48dd-b9e6-0aa320db7b62",
   "metadata": {},
   "outputs": [],
   "source": [
    "communities = girvan_newman(G)"
   ]
  },
  {
   "cell_type": "markdown",
   "id": "c590eb26-1415-4316-96cc-ed6eae1d33e3",
   "metadata": {},
   "source": [
    "The following uses above information based on set up edges and sets up communities that we can observe in the play."
   ]
  },
  {
   "cell_type": "code",
   "execution_count": 35,
   "id": "d76e7dc5-2cce-460d-831c-5ac3e6d268b7",
   "metadata": {},
   "outputs": [
    {
     "name": "stdout",
     "output_type": "stream",
     "text": [
      "[['MERCUTIO', 'LADY MONTAGUE', 'CAPULET’S COUSIN', 'GREGORY', 'SAMPSON', 'FRIAR LAWRENCE', 'BALTHASAR', 'BENVOLIO', 'PARIS', 'ROMEO', 'ABRAM', 'CAPULET', 'LADY CAPULET', 'TYBALT', 'NURSE', 'JULIET', 'PETER', 'MONTAGUE'], ['FRIAR JOHN']]\n"
     ]
    },
    {
     "data": {
      "image/png": "[encoded data removed]",
      "text/plain": [
       "<Figure size 432x288 with 1 Axes>"
      ]
     },
     "metadata": {},
     "output_type": "display_data"
    }
   ],
   "source": [
    "node_groups = []\n",
    "for com in next(communities):\n",
    "    node_groups.append(list(com))\n",
    " \n",
    "print(node_groups)\n",
    " \n",
    "color_map = []\n",
    "for node in G:\n",
    "    if node in node_groups[0]:\n",
    "        color_map.append('blue')\n",
    "    else:\n",
    "        color_map.append('green')\n",
    "nx.draw(G, node_color=color_map, with_labels=True)\n",
    "plt.show()"
   ]
  },
  {
   "cell_type": "code",
   "execution_count": 36,
   "id": "2ef693a2-28e3-4e74-9569-1ccc09554408",
   "metadata": {},
   "outputs": [
    {
     "data": {
      "text/plain": [
       "0.5847953216374269"
      ]
     },
     "execution_count": 36,
     "metadata": {},
     "output_type": "execute_result"
    }
   ],
   "source": [
    "nx.density(G)"
   ]
  },
  {
   "cell_type": "code",
   "execution_count": 37,
   "id": "ab38a6de-35ad-415b-b85c-ed96efaf1912",
   "metadata": {},
   "outputs": [],
   "source": [
    "from networkx.algorithms.community import greedy_modularity_communities"
   ]
  },
  {
   "cell_type": "markdown",
   "id": "395f9ccd-8dc2-4e43-a05c-2d26e31b1adb",
   "metadata": {},
   "source": [
    "The following code identified three communities as seen below."
   ]
  },
  {
   "cell_type": "code",
   "execution_count": 38,
   "id": "bfed3aee-a87f-47b8-9065-de66577c8b12",
   "metadata": {},
   "outputs": [
    {
     "data": {
      "text/plain": [
       "[frozenset({'BENVOLIO',\n",
       "            'LADY CAPULET',\n",
       "            'MERCUTIO',\n",
       "            'NURSE',\n",
       "            'PARIS',\n",
       "            'PETER'}),\n",
       " frozenset({'ABRAM',\n",
       "            'CAPULET',\n",
       "            'GREGORY',\n",
       "            'LADY MONTAGUE',\n",
       "            'ROMEO',\n",
       "            'SAMPSON'}),\n",
       " frozenset({'BALTHASAR', 'FRIAR JOHN', 'FRIAR LAWRENCE', 'MONTAGUE'}),\n",
       " frozenset({'CAPULET’S COUSIN', 'JULIET', 'TYBALT'})]"
      ]
     },
     "execution_count": 38,
     "metadata": {},
     "output_type": "execute_result"
    }
   ],
   "source": [
    "greedy_modularity_communities(G)"
   ]
  },
  {
   "cell_type": "code",
   "execution_count": 39,
   "id": "c3c2efec-c778-454b-ba41-ade564425c51",
   "metadata": {},
   "outputs": [],
   "source": [
    "communities = greedy_modularity_communities(G)\n",
    "modularity_class = {}\n",
    "for community_number, community in enumerate(communities):\n",
    "    for name in community:\n",
    "        modularity_class[name] = community_number"
   ]
  },
  {
   "cell_type": "code",
   "execution_count": 40,
   "id": "db671ec5-4fd9-489c-8b9e-13ba4d85286b",
   "metadata": {},
   "outputs": [
    {
     "data": {
      "text/plain": [
       "{'MERCUTIO': 0,\n",
       " 'BENVOLIO': 0,\n",
       " 'PARIS': 0,\n",
       " 'NURSE': 0,\n",
       " 'LADY CAPULET': 0,\n",
       " 'PETER': 0,\n",
       " 'LADY MONTAGUE': 1,\n",
       " 'GREGORY': 1,\n",
       " 'SAMPSON': 1,\n",
       " 'ROMEO': 1,\n",
       " 'ABRAM': 1,\n",
       " 'CAPULET': 1,\n",
       " 'FRIAR JOHN': 2,\n",
       " 'BALTHASAR': 2,\n",
       " 'MONTAGUE': 2,\n",
       " 'FRIAR LAWRENCE': 2,\n",
       " 'JULIET': 3,\n",
       " 'CAPULET’S COUSIN': 3,\n",
       " 'TYBALT': 3}"
      ]
     },
     "execution_count": 40,
     "metadata": {},
     "output_type": "execute_result"
    }
   ],
   "source": [
    "modularity_class"
   ]
  },
  {
   "cell_type": "markdown",
   "id": "f7ca43e1-efae-4f13-bee0-9e0675b05dd5",
   "metadata": {},
   "source": [
    "The following code visualized the above communities."
   ]
  },
  {
   "cell_type": "code",
   "execution_count": 41,
   "id": "5318ecde-b59c-4cfb-8ae5-e487dbc0c966",
   "metadata": {},
   "outputs": [
    {
     "name": "stdout",
     "output_type": "stream",
     "text": [
      "[['MERCUTIO', 'BENVOLIO', 'PARIS', 'NURSE', 'LADY CAPULET', 'PETER'], ['LADY MONTAGUE', 'GREGORY', 'SAMPSON', 'ROMEO', 'ABRAM', 'CAPULET'], ['FRIAR JOHN', 'BALTHASAR', 'MONTAGUE', 'FRIAR LAWRENCE'], ['JULIET', 'CAPULET’S COUSIN', 'TYBALT']]\n"
     ]
    },
    {
     "data": {
      "image/png": "[encoded data removed]",
      "text/plain": [
       "<Figure size 432x288 with 1 Axes>"
      ]
     },
     "metadata": {},
     "output_type": "display_data"
    }
   ],
   "source": [
    "communities = greedy_modularity_communities(G)\n",
    "\n",
    "node_groups = []\n",
    "for com in communities:\n",
    "    node_groups.append(list(com))\n",
    " \n",
    "print(node_groups)\n",
    " \n",
    "color_map = []\n",
    "for node in G:\n",
    "    if node in node_groups[0]:\n",
    "        color_map.append('blue')\n",
    "    elif node in node_groups[1]:\n",
    "        color_map.append('yellow')\n",
    "    else:\n",
    "        color_map.append('green')\n",
    "nx.draw(G, node_color=color_map, with_labels=True)\n",
    "plt.show()"
   ]
  },
  {
   "cell_type": "code",
   "execution_count": 42,
   "id": "0f6e7361-c03f-4486-8e6b-b9754f22283f",
   "metadata": {
    "tags": []
   },
   "outputs": [
    {
     "name": "stdout",
     "output_type": "stream",
     "text": [
      "10\n"
     ]
    },
    {
     "data": {
      "text/plain": [
       "[{'data': {'id': 'MERCUTIO',\n",
       "   'label': 'Mercutio',\n",
       "   'size': '4',\n",
       "   'modularity': 'gold'}},\n",
       " {'data': {'id': 'PARIS',\n",
       "   'label': 'Paris',\n",
       "   'size': '5',\n",
       "   'modularity': 'gold'}},\n",
       " {'data': {'id': 'MONTAGUE',\n",
       "   'label': 'Montague',\n",
       "   'size': '3',\n",
       "   'modularity': 'pink'}},\n",
       " {'data': {'id': 'LADY MONTAGUE',\n",
       "   'label': 'Lady Montague',\n",
       "   'size': '1',\n",
       "   'modularity': 'green'}},\n",
       " {'data': {'id': 'ROMEO',\n",
       "   'label': 'Romeo',\n",
       "   'size': '14',\n",
       "   'modularity': 'green'}},\n",
       " {'data': {'id': 'BENVOLIO',\n",
       "   'label': 'Benvolio',\n",
       "   'size': '7',\n",
       "   'modularity': 'gold'}},\n",
       " {'data': {'id': 'ABRAM',\n",
       "   'label': 'Abram',\n",
       "   'size': '1',\n",
       "   'modularity': 'green'}},\n",
       " {'data': {'id': 'BALTHASAR',\n",
       "   'label': 'Balthasar',\n",
       "   'size': '2',\n",
       "   'modularity': 'pink'}},\n",
       " {'data': {'id': 'CAPULET',\n",
       "   'label': 'Capulet',\n",
       "   'size': '12',\n",
       "   'modularity': 'green'}},\n",
       " {'data': {'id': 'LADY CAPULET',\n",
       "   'label': 'Lady Capulet',\n",
       "   'size': '10',\n",
       "   'modularity': 'gold'}},\n",
       " {'data': {'id': 'JULIET',\n",
       "   'label': 'Juliet',\n",
       "   'size': '11',\n",
       "   'modularity': 'pink'}},\n",
       " {'data': {'id': 'TYBALT',\n",
       "   'label': 'Tybalt',\n",
       "   'size': '3',\n",
       "   'modularity': 'pink'}},\n",
       " {'data': {'id': 'CAPULET’S COUSIN',\n",
       "   'label': 'Capulet’S Cousin',\n",
       "   'size': '1',\n",
       "   'modularity': 'pink'}},\n",
       " {'data': {'id': 'NURSE',\n",
       "   'label': 'Nurse',\n",
       "   'size': '11',\n",
       "   'modularity': 'gold'}},\n",
       " {'data': {'id': 'PETER',\n",
       "   'label': 'Peter',\n",
       "   'size': '2',\n",
       "   'modularity': 'gold'}},\n",
       " {'data': {'id': 'SAMPSON',\n",
       "   'label': 'Sampson',\n",
       "   'size': '1',\n",
       "   'modularity': 'green'}},\n",
       " {'data': {'id': 'GREGORY',\n",
       "   'label': 'Gregory',\n",
       "   'size': '1',\n",
       "   'modularity': 'green'}},\n",
       " {'data': {'id': 'FRIAR LAWRENCE',\n",
       "   'label': 'Friar Lawrence',\n",
       "   'size': '7',\n",
       "   'modularity': 'pink'}},\n",
       " {'data': {'id': 'FRIAR JOHN',\n",
       "   'label': 'Friar John',\n",
       "   'size': '1',\n",
       "   'modularity': 'pink'}},\n",
       " {'data': {'source': 'MERCUTIO', 'target': 'MONTAGUE', 'weight': 0.1}},\n",
       " {'data': {'source': 'MERCUTIO', 'target': 'ROMEO', 'weight': 0.4}},\n",
       " {'data': {'source': 'MERCUTIO', 'target': 'BENVOLIO', 'weight': 0.4}},\n",
       " {'data': {'source': 'MERCUTIO', 'target': 'CAPULET', 'weight': 0.1}},\n",
       " {'data': {'source': 'MERCUTIO', 'target': 'LADY CAPULET', 'weight': 0.1}},\n",
       " {'data': {'source': 'MERCUTIO', 'target': 'TYBALT', 'weight': 0.1}},\n",
       " {'data': {'source': 'MERCUTIO', 'target': 'NURSE', 'weight': 0.1}},\n",
       " {'data': {'source': 'MERCUTIO', 'target': 'PETER', 'weight': 0.1}},\n",
       " {'data': {'source': 'PARIS', 'target': 'MONTAGUE', 'weight': 0.1}},\n",
       " {'data': {'source': 'PARIS', 'target': 'ROMEO', 'weight': 0.2}},\n",
       " {'data': {'source': 'PARIS', 'target': 'BENVOLIO', 'weight': 0.1}},\n",
       " {'data': {'source': 'PARIS', 'target': 'BALTHASAR', 'weight': 0.1}},\n",
       " {'data': {'source': 'PARIS', 'target': 'CAPULET', 'weight': 0.4}},\n",
       " {'data': {'source': 'PARIS', 'target': 'LADY CAPULET', 'weight': 0.3}},\n",
       " {'data': {'source': 'PARIS', 'target': 'JULIET', 'weight': 0.2}},\n",
       " {'data': {'source': 'PARIS', 'target': 'NURSE', 'weight': 0.1}},\n",
       " {'data': {'source': 'PARIS', 'target': 'PETER', 'weight': 0.1}},\n",
       " {'data': {'source': 'PARIS', 'target': 'FRIAR LAWRENCE', 'weight': 0.3}},\n",
       " {'data': {'source': 'MONTAGUE', 'target': 'LADY MONTAGUE', 'weight': 0.1}},\n",
       " {'data': {'source': 'MONTAGUE', 'target': 'ROMEO', 'weight': 0.3}},\n",
       " {'data': {'source': 'MONTAGUE', 'target': 'BENVOLIO', 'weight': 0.2}},\n",
       " {'data': {'source': 'MONTAGUE', 'target': 'ABRAM', 'weight': 0.1}},\n",
       " {'data': {'source': 'MONTAGUE', 'target': 'BALTHASAR', 'weight': 0.1}},\n",
       " {'data': {'source': 'MONTAGUE', 'target': 'CAPULET', 'weight': 0.3}},\n",
       " {'data': {'source': 'MONTAGUE', 'target': 'LADY CAPULET', 'weight': 0.3}},\n",
       " {'data': {'source': 'MONTAGUE', 'target': 'JULIET', 'weight': 0.1}},\n",
       " {'data': {'source': 'MONTAGUE', 'target': 'TYBALT', 'weight': 0.2}},\n",
       " {'data': {'source': 'MONTAGUE', 'target': 'SAMPSON', 'weight': 0.1}},\n",
       " {'data': {'source': 'MONTAGUE', 'target': 'GREGORY', 'weight': 0.1}},\n",
       " {'data': {'source': 'MONTAGUE', 'target': 'FRIAR LAWRENCE', 'weight': 0.1}},\n",
       " {'data': {'source': 'LADY MONTAGUE', 'target': 'ROMEO', 'weight': 0.1}},\n",
       " {'data': {'source': 'LADY MONTAGUE', 'target': 'BENVOLIO', 'weight': 0.1}},\n",
       " {'data': {'source': 'LADY MONTAGUE', 'target': 'ABRAM', 'weight': 0.1}},\n",
       " {'data': {'source': 'LADY MONTAGUE', 'target': 'CAPULET', 'weight': 0.1}},\n",
       " {'data': {'source': 'LADY MONTAGUE',\n",
       "   'target': 'LADY CAPULET',\n",
       "   'weight': 0.1}},\n",
       " {'data': {'source': 'LADY MONTAGUE', 'target': 'TYBALT', 'weight': 0.1}},\n",
       " {'data': {'source': 'LADY MONTAGUE', 'target': 'SAMPSON', 'weight': 0.1}},\n",
       " {'data': {'source': 'LADY MONTAGUE', 'target': 'GREGORY', 'weight': 0.1}},\n",
       " {'data': {'source': 'ROMEO', 'target': 'BENVOLIO', 'weight': 0.7}},\n",
       " {'data': {'source': 'ROMEO', 'target': 'ABRAM', 'weight': 0.1}},\n",
       " {'data': {'source': 'ROMEO', 'target': 'BALTHASAR', 'weight': 0.2}},\n",
       " {'data': {'source': 'ROMEO', 'target': 'CAPULET', 'weight': 0.6}},\n",
       " {'data': {'source': 'ROMEO', 'target': 'LADY CAPULET', 'weight': 0.4}},\n",
       " {'data': {'source': 'ROMEO', 'target': 'JULIET', 'weight': 0.5}},\n",
       " {'data': {'source': 'ROMEO', 'target': 'TYBALT', 'weight': 0.3}},\n",
       " {'data': {'source': 'ROMEO', 'target': 'CAPULET’S COUSIN', 'weight': 0.1}},\n",
       " {'data': {'source': 'ROMEO', 'target': 'NURSE', 'weight': 0.5}},\n",
       " {'data': {'source': 'ROMEO', 'target': 'PETER', 'weight': 0.1}},\n",
       " {'data': {'source': 'ROMEO', 'target': 'SAMPSON', 'weight': 0.1}},\n",
       " {'data': {'source': 'ROMEO', 'target': 'GREGORY', 'weight': 0.1}},\n",
       " {'data': {'source': 'ROMEO', 'target': 'FRIAR LAWRENCE', 'weight': 0.4}},\n",
       " {'data': {'source': 'BENVOLIO', 'target': 'ABRAM', 'weight': 0.1}},\n",
       " {'data': {'source': 'BENVOLIO', 'target': 'CAPULET', 'weight': 0.4}},\n",
       " {'data': {'source': 'BENVOLIO', 'target': 'LADY CAPULET', 'weight': 0.2}},\n",
       " {'data': {'source': 'BENVOLIO', 'target': 'JULIET', 'weight': 0.1}},\n",
       " {'data': {'source': 'BENVOLIO', 'target': 'TYBALT', 'weight': 0.3}},\n",
       " {'data': {'source': 'BENVOLIO', 'target': 'CAPULET’S COUSIN', 'weight': 0.1}},\n",
       " {'data': {'source': 'BENVOLIO', 'target': 'NURSE', 'weight': 0.2}},\n",
       " {'data': {'source': 'BENVOLIO', 'target': 'PETER', 'weight': 0.1}},\n",
       " {'data': {'source': 'BENVOLIO', 'target': 'SAMPSON', 'weight': 0.1}},\n",
       " {'data': {'source': 'BENVOLIO', 'target': 'GREGORY', 'weight': 0.1}},\n",
       " {'data': {'source': 'ABRAM', 'target': 'CAPULET', 'weight': 0.1}},\n",
       " {'data': {'source': 'ABRAM', 'target': 'LADY CAPULET', 'weight': 0.1}},\n",
       " {'data': {'source': 'ABRAM', 'target': 'TYBALT', 'weight': 0.1}},\n",
       " {'data': {'source': 'ABRAM', 'target': 'SAMPSON', 'weight': 0.1}},\n",
       " {'data': {'source': 'ABRAM', 'target': 'GREGORY', 'weight': 0.1}},\n",
       " {'data': {'source': 'BALTHASAR', 'target': 'CAPULET', 'weight': 0.1}},\n",
       " {'data': {'source': 'BALTHASAR', 'target': 'LADY CAPULET', 'weight': 0.1}},\n",
       " {'data': {'source': 'BALTHASAR', 'target': 'JULIET', 'weight': 0.1}},\n",
       " {'data': {'source': 'BALTHASAR', 'target': 'FRIAR LAWRENCE', 'weight': 0.1}},\n",
       " {'data': {'source': 'CAPULET', 'target': 'LADY CAPULET', 'weight': 1.0}},\n",
       " {'data': {'source': 'CAPULET', 'target': 'JULIET', 'weight': 0.6}},\n",
       " {'data': {'source': 'CAPULET', 'target': 'TYBALT', 'weight': 0.3}},\n",
       " {'data': {'source': 'CAPULET', 'target': 'CAPULET’S COUSIN', 'weight': 0.1}},\n",
       " {'data': {'source': 'CAPULET', 'target': 'NURSE', 'weight': 0.6}},\n",
       " {'data': {'source': 'CAPULET', 'target': 'PETER', 'weight': 0.1}},\n",
       " {'data': {'source': 'CAPULET', 'target': 'SAMPSON', 'weight': 0.1}},\n",
       " {'data': {'source': 'CAPULET', 'target': 'GREGORY', 'weight': 0.1}},\n",
       " {'data': {'source': 'CAPULET', 'target': 'FRIAR LAWRENCE', 'weight': 0.2}},\n",
       " {'data': {'source': 'LADY CAPULET', 'target': 'JULIET', 'weight': 0.5}},\n",
       " {'data': {'source': 'LADY CAPULET', 'target': 'TYBALT', 'weight': 0.2}},\n",
       " {'data': {'source': 'LADY CAPULET', 'target': 'NURSE', 'weight': 0.5}},\n",
       " {'data': {'source': 'LADY CAPULET', 'target': 'PETER', 'weight': 0.1}},\n",
       " {'data': {'source': 'LADY CAPULET', 'target': 'SAMPSON', 'weight': 0.1}},\n",
       " {'data': {'source': 'LADY CAPULET', 'target': 'GREGORY', 'weight': 0.1}},\n",
       " {'data': {'source': 'LADY CAPULET',\n",
       "   'target': 'FRIAR LAWRENCE',\n",
       "   'weight': 0.2}},\n",
       " {'data': {'source': 'JULIET', 'target': 'TYBALT', 'weight': 0.1}},\n",
       " {'data': {'source': 'JULIET', 'target': 'CAPULET’S COUSIN', 'weight': 0.1}},\n",
       " {'data': {'source': 'JULIET', 'target': 'NURSE', 'weight': 0.7}},\n",
       " {'data': {'source': 'JULIET', 'target': 'FRIAR LAWRENCE', 'weight': 0.3}},\n",
       " {'data': {'source': 'TYBALT', 'target': 'CAPULET’S COUSIN', 'weight': 0.1}},\n",
       " {'data': {'source': 'TYBALT', 'target': 'NURSE', 'weight': 0.1}},\n",
       " {'data': {'source': 'TYBALT', 'target': 'SAMPSON', 'weight': 0.1}},\n",
       " {'data': {'source': 'TYBALT', 'target': 'GREGORY', 'weight': 0.1}},\n",
       " {'data': {'source': 'CAPULET’S COUSIN', 'target': 'NURSE', 'weight': 0.1}},\n",
       " {'data': {'source': 'NURSE', 'target': 'PETER', 'weight': 0.2}},\n",
       " {'data': {'source': 'NURSE', 'target': 'FRIAR LAWRENCE', 'weight': 0.2}},\n",
       " {'data': {'source': 'PETER', 'target': 'FRIAR LAWRENCE', 'weight': 0.1}},\n",
       " {'data': {'source': 'SAMPSON', 'target': 'GREGORY', 'weight': 0.1}},\n",
       " {'data': {'source': 'FRIAR LAWRENCE', 'target': 'FRIAR JOHN', 'weight': 0.1}}]"
      ]
     },
     "execution_count": 42,
     "metadata": {},
     "output_type": "execute_result"
    }
   ],
   "source": [
    "graphitems = []\n",
    "\n",
    "for k,v in charnum.items():\n",
    "    if k in node_groups[0]:\n",
    "        modularity = 'gold'\n",
    "    elif k in node_groups[1]:\n",
    "        modularity = 'green'\n",
    "    else:\n",
    "        modularity = 'pink'\n",
    "    dashnode = {'data': {'id': k,\n",
    "                         'label': k.title(),\n",
    "                         'size': str(v),'modularity': modularity}}\n",
    "    graphitems.append(dashnode)\n",
    "\n",
    "correction_factor = max(connections.values())\n",
    "print(correction_factor)\n",
    "for k,v in connections.items():\n",
    "    if v != 0:\n",
    "        dashedge = {'data': {'source': k[0],\n",
    "                             'target': k[1],\n",
    "                             'weight': v/correction_factor}}\n",
    "        graphitems.append(dashedge)\n",
    "    \n",
    "graphitems"
   ]
  },
  {
   "cell_type": "code",
   "execution_count": 43,
   "id": "d4d33b5b-014c-4b0e-8b5e-d8637a499157",
   "metadata": {},
   "outputs": [
    {
     "name": "stdout",
     "output_type": "stream",
     "text": [
      "Dash app running on https://jupyter.idre.ucla.edu/user/dyana@ucla.edu/proxy/8050/\n"
     ]
    }
   ],
   "source": [
    "app = JupyterDash(__name__)\n",
    "\n",
    "app.layout = html.Div([\n",
    "    cyto.Cytoscape(\n",
    "        layout={'name': 'cose'},\n",
    "        elements=graphitems,\n",
    "        style={'width': '100%', 'height': '750px'},\n",
    "        stylesheet=[\n",
    "            {\n",
    "                'selector': 'node',\n",
    "                'style': {\n",
    "                    'content':'data(label)',\n",
    "                    'text-halign':'center',\n",
    "                    'text-valign':'center',\n",
    "                    'width': 'data(size)',\n",
    "                    'height': 'data(size)',\n",
    "                    'font-size': 4,\n",
    "                    'color': 'black',\n",
    "                    'background-color': 'data(modularity)',\n",
    "                    'text-outline-color': 'white',\n",
    "                    'text-outline-width': 0.2,\n",
    "                    'shape':'circle'\n",
    "                }\n",
    "            },\n",
    "            {\n",
    "                'selector':'edge',\n",
    "                'style': {\n",
    "                    'width':'data(weight)',\n",
    "                    'line-color': 'grey',\n",
    "                  }\n",
    "            },\n",
    "        ]\n",
    "    )\n",
    "])\n",
    "\n",
    "app.run_server(debug=True)"
   ]
  },
  {
   "cell_type": "code",
   "execution_count": null,
   "id": "efaffdf6-5537-4ec9-9e57-46f674515c64",
   "metadata": {},
   "outputs": [],
   "source": []
  }
 ],
 "metadata": {
  "kernelspec": {
   "display_name": "Python 3 (ipykernel)",
   "language": "python",
   "name": "python3"
  },
  "language_info": {
   "codemirror_mode": {
    "name": "ipython",
    "version": 3
   },
   "file_extension": ".py",
   "mimetype": "text/x-python",
   "name": "python",
   "nbconvert_exporter": "python",
   "pygments_lexer": "ipython3",
   "version": "3.9.6"
  }
 },
 "nbformat": 4,
 "nbformat_minor": 5
}
