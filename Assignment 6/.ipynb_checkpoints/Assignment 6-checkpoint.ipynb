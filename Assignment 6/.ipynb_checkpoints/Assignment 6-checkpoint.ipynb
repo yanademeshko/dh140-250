{
 "cells": [
  {
   "cell_type": "markdown",
   "id": "12612946-99d2-46e5-b1b0-d4f7c4ec21a3",
   "metadata": {},
   "source": [
    "# Shakespeare Word Frequency "
   ]
  },
  {
   "cell_type": "code",
   "execution_count": null,
   "id": "8df53d14-c837-4b27-ae16-cef98310d376",
   "metadata": {},
   "outputs": [],
   "source": [
    "import nltk\n",
    "from nltk.tokenize import word_tokenize, sent_tokenize"
   ]
  },
  {
   "cell_type": "code",
   "execution_count": null,
   "id": "a70a8339-fe41-4517-bccb-d879a26d0c8e",
   "metadata": {},
   "outputs": [],
   "source": [
    "with open('Macbeth Shakespeare.txt') as f:\n",
    "    x = f.read()"
   ]
  },
  {
   "cell_type": "markdown",
   "id": "cd666753-8f62-410d-a5f5-680bc49ddafe",
   "metadata": {},
   "source": [
    "### Tokenization"
   ]
  },
  {
   "cell_type": "code",
   "execution_count": null,
   "id": "8e2dc6aa-4376-4540-aea3-b5c492659e47",
   "metadata": {
    "collapsed": true,
    "jupyter": {
     "outputs_hidden": true
    },
    "tags": []
   },
   "outputs": [],
   "source": [
    "sent = sent_tokenize(x)\n",
    "print(sent)"
   ]
  },
  {
   "cell_type": "code",
   "execution_count": null,
   "id": "f5649b66-8681-4395-b136-da03c922ac1f",
   "metadata": {},
   "outputs": [],
   "source": [
    "print(word_tokenize(sent[1]))"
   ]
  },
  {
   "cell_type": "code",
   "execution_count": null,
   "id": "5bfa785d-f916-4cb2-a977-4a4190fb522c",
   "metadata": {},
   "outputs": [],
   "source": [
    "words = []\n",
    "for s in sent:\n",
    "    for w in word_tokenize(s):\n",
    "        words.append(w)"
   ]
  },
  {
   "cell_type": "code",
   "execution_count": null,
   "id": "e4f28b5d-a2c1-482d-8ff1-fb6d2fd68efa",
   "metadata": {
    "collapsed": true,
    "jupyter": {
     "outputs_hidden": true
    },
    "tags": []
   },
   "outputs": [],
   "source": [
    "print(words)"
   ]
  },
  {
   "cell_type": "markdown",
   "id": "32912a23-1bc8-4332-97e1-483b62078c54",
   "metadata": {},
   "source": [
    "### Stopword removal"
   ]
  },
  {
   "cell_type": "code",
   "execution_count": null,
   "id": "c699fb7f-66a8-40de-b3db-0cff4dd8b077",
   "metadata": {},
   "outputs": [],
   "source": [
    "from nltk.corpus import stopwords\n",
    "from string import punctuation\n",
    "nltk.download('stopwords')"
   ]
  },
  {
   "cell_type": "code",
   "execution_count": null,
   "id": "f05ca703-645f-4ea3-916b-deb680930e41",
   "metadata": {},
   "outputs": [],
   "source": [
    "print(punctuation)"
   ]
  },
  {
   "cell_type": "code",
   "execution_count": null,
   "id": "1e966477-fc9f-41d8-8b19-756a86129d6f",
   "metadata": {},
   "outputs": [],
   "source": [
    "print(stopwords.words('english'))"
   ]
  },
  {
   "cell_type": "code",
   "execution_count": null,
   "id": "661a66a3-dfe7-424d-9978-2558e0f756eb",
   "metadata": {},
   "outputs": [],
   "source": [
    "print(list(punctuation))"
   ]
  },
  {
   "cell_type": "code",
   "execution_count": null,
   "id": "b522d1b9-fb91-475e-bfd7-fdcf98731927",
   "metadata": {},
   "outputs": [],
   "source": [
    "myStopWords = list(punctuation) + stopwords.words('english')"
   ]
  },
  {
   "cell_type": "code",
   "execution_count": null,
   "id": "61a7d609-0cc6-4eb5-bcff-c380d23787cc",
   "metadata": {
    "collapsed": true,
    "jupyter": {
     "outputs_hidden": true
    },
    "tags": []
   },
   "outputs": [],
   "source": [
    "wordsNoStop = []\n",
    "for i in words:\n",
    "    if i not in myStopWords:\n",
    "        wordsNoStop.append(i)\n",
    "print(wordsNoStop)"
   ]
  },
  {
   "cell_type": "code",
   "execution_count": null,
   "id": "c7325a59-0e45-441d-ac75-7a42ea9e5bb2",
   "metadata": {
    "collapsed": true,
    "jupyter": {
     "outputs_hidden": true
    },
    "tags": []
   },
   "outputs": [],
   "source": [
    "wordsNoStopComp = [w for w in words if w not in myStopWords]\n",
    "print(wordsNoStopComp)"
   ]
  },
  {
   "cell_type": "markdown",
   "id": "08495400-4eee-4c33-b06c-4bd6aec1e6b8",
   "metadata": {},
   "source": [
    "### 20 Most frequent words in Macbeth"
   ]
  },
  {
   "cell_type": "code",
   "execution_count": null,
   "id": "0cd3da27-9153-4946-afdb-8fc1d63638aa",
   "metadata": {},
   "outputs": [],
   "source": [
    "from nltk.corpus import wordnet"
   ]
  },
  {
   "cell_type": "code",
   "execution_count": null,
   "id": "92b04779-ff53-4038-86af-fc40ce979ea6",
   "metadata": {},
   "outputs": [],
   "source": [
    "words = word_tokenize(x.lower())"
   ]
  },
  {
   "cell_type": "code",
   "execution_count": null,
   "id": "aeab91d9-70ca-4d53-813a-57ecb45b9f6f",
   "metadata": {
    "collapsed": true,
    "jupyter": {
     "outputs_hidden": true
    },
    "tags": []
   },
   "outputs": [],
   "source": [
    "words"
   ]
  },
  {
   "cell_type": "code",
   "execution_count": null,
   "id": "1d63c367-583f-4c21-8a3c-cb04798a5de5",
   "metadata": {},
   "outputs": [],
   "source": [
    "wordsNoStopWords = [w for w in words if w not in myStopWords]"
   ]
  },
  {
   "cell_type": "code",
   "execution_count": null,
   "id": "49de9f4d-efbf-479a-b2c7-ee4bcef3e865",
   "metadata": {
    "collapsed": true,
    "jupyter": {
     "outputs_hidden": true
    },
    "tags": []
   },
   "outputs": [],
   "source": [
    "wordsNoStopWords"
   ]
  },
  {
   "cell_type": "code",
   "execution_count": null,
   "id": "2d95859d-af9f-4a9f-be2b-2841101097f7",
   "metadata": {},
   "outputs": [],
   "source": [
    "from nltk.probability import FreqDist"
   ]
  },
  {
   "cell_type": "code",
   "execution_count": null,
   "id": "d615822e-4a51-40a6-883e-6b7e8e1ebd06",
   "metadata": {},
   "outputs": [],
   "source": [
    "freq = FreqDist(wordsNoStopWords)"
   ]
  },
  {
   "cell_type": "code",
   "execution_count": null,
   "id": "7bfc4412-024b-4fd2-bbf3-9778cfc41d44",
   "metadata": {},
   "outputs": [],
   "source": [
    "freq"
   ]
  },
  {
   "cell_type": "code",
   "execution_count": null,
   "id": "4ca78d73-5cd3-4d51-bf27-0ba385df8668",
   "metadata": {},
   "outputs": [],
   "source": [
    "for i in sorted(freq, key=freq.get, reverse=True)[:20]:\n",
    "    print(i,freq[i])"
   ]
  },
  {
   "cell_type": "markdown",
   "id": "de3f74eb-b55b-4e96-9089-ca05ec778db4",
   "metadata": {},
   "source": [
    "#### With exception of \"though,\" \"enter,\" \"us\" and other similar words, others give a fair impression of words that a reader would encounter in the play Macbeth. "
   ]
  },
  {
   "cell_type": "markdown",
   "id": "311c9c4a-3be6-4c61-953c-3ace97116d07",
   "metadata": {},
   "source": [
    "# Yelp sentiments (Howlin' Ray's in Chinatown)"
   ]
  },
  {
   "cell_type": "code",
   "execution_count": null,
   "id": "47a368da-0990-47fd-a9e8-2c04af5fa7f0",
   "metadata": {},
   "outputs": [],
   "source": [
    "from nltk.sentiment import vader\n",
    "nltk.download('vader_lexicon')"
   ]
  },
  {
   "cell_type": "code",
   "execution_count": null,
   "id": "9a9933b1-3f58-4454-b03a-4026cbf3519f",
   "metadata": {},
   "outputs": [],
   "source": [
    "sia = vader.SentimentIntensityAnalyzer()"
   ]
  },
  {
   "cell_type": "code",
   "execution_count": null,
   "id": "aea171f4-d94e-4fa8-b179-fd1e2862547e",
   "metadata": {},
   "outputs": [],
   "source": [
    "review_1 = '''\n",
    "5 stars: It's been a first world problem dealing with hot \"sandies\" in LA. \n",
    "But nothing - ever - compares to Howlin' Ray's. \n",
    "My wife and I have tried them all and nothing comes close. \n",
    "Some things are a pale comparison but alas, no they don't compare.\n",
    "'''"
   ]
  },
  {
   "cell_type": "code",
   "execution_count": null,
   "id": "95953d24-3e15-4137-a88d-49be92c5a814",
   "metadata": {},
   "outputs": [],
   "source": [
    "sia.polarity_scores(review_1)"
   ]
  },
  {
   "cell_type": "markdown",
   "id": "76316375-ffec-48ce-bc75-ddf2a6efb248",
   "metadata": {},
   "source": [
    "It appears that the review itself is more positive than what the sentiment analysis shows"
   ]
  },
  {
   "cell_type": "code",
   "execution_count": null,
   "id": "65c25ef4-0af5-4db5-bc37-924b5baaf536",
   "metadata": {},
   "outputs": [],
   "source": [
    "review_2 = '''\n",
    "4 stars: Omg! They're not playing when it comes to spice...\n",
    "Be careful... be VERY careful. But be ready for something delicious.\n",
    "'''"
   ]
  },
  {
   "cell_type": "code",
   "execution_count": null,
   "id": "ecb5417f-8a98-44d8-bb51-8104ad7b93c1",
   "metadata": {},
   "outputs": [],
   "source": [
    "sia.polarity_scores(review_2)"
   ]
  },
  {
   "cell_type": "markdown",
   "id": "8240ff6b-955d-48be-8563-e3da4e4b7486",
   "metadata": {},
   "source": [
    "The sentiment analysis is a little generous in its assessment of this review that warns \n",
    "potential customers about spice levels of the sandos"
   ]
  },
  {
   "cell_type": "code",
   "execution_count": null,
   "id": "d42e8226-8728-4d03-97b8-4c283df5b317",
   "metadata": {},
   "outputs": [],
   "source": [
    "review_3 = '''\n",
    "5 stars: Overall, I found the sandwich very enjoyable. \n",
    "The chicken was fresh and juicy, and the buns were noteworthy. \n",
    "Would I wait over an hour for one of these sandwiches? Definitely not. \n",
    "That said, I'm happy to have finally tried this ultimate foodie destination \n",
    "that has been on my list forever. It was delicious!\n",
    "'''"
   ]
  },
  {
   "cell_type": "code",
   "execution_count": null,
   "id": "c7d7fd85-4e9f-4f31-838a-8f2f3959f340",
   "metadata": {},
   "outputs": [],
   "source": [
    "sia.polarity_scores(review_3)"
   ]
  },
  {
   "cell_type": "markdown",
   "id": "20e9e53f-5ed3-44a9-9486-cda9755002ca",
   "metadata": {},
   "source": [
    "A neutral review indeed."
   ]
  },
  {
   "cell_type": "code",
   "execution_count": null,
   "id": "1979bbfd-d304-4b03-a536-d6d08c20ce84",
   "metadata": {},
   "outputs": [],
   "source": [
    "review_4 = '''\n",
    "5 stars: The Nashville original fried chicken sandwich here \n",
    "still tops any chicken sandwich I've ever tried.\n",
    "'''"
   ]
  },
  {
   "cell_type": "code",
   "execution_count": null,
   "id": "2e224229-22bc-48cd-beea-1bbfa0c48a93",
   "metadata": {},
   "outputs": [],
   "source": [
    "sia.polarity_scores(review_4)"
   ]
  },
  {
   "cell_type": "markdown",
   "id": "b94b3c38-152d-417e-90c4-62405b5de83e",
   "metadata": {},
   "source": [
    "This is a more positive than a neutral one"
   ]
  },
  {
   "cell_type": "code",
   "execution_count": null,
   "id": "769356fe-2fab-453f-83cc-4188843b8ea6",
   "metadata": {},
   "outputs": [],
   "source": [
    "review_5 = '''\n",
    "5 stars: We order the Sandos with mild spicy level. \n",
    "I am a little bit of a chicken to go any higher. \n",
    "There is quite a jump in slickness from mild to medium. YOU ARE WARNED! \n",
    "I cannot imagine how spicy Hot or Howlin is. I be dead, Forreals. \n",
    "The Sando is ABSOLUTELY AMAZING! Probably the best chicken sandwich I had... ever! \n",
    "The chicken is super juicy, their coleslaw mix is delish, as well as their pickles! \n",
    "You will not not like their Sando, how can you?\n",
    "'''"
   ]
  },
  {
   "cell_type": "code",
   "execution_count": null,
   "id": "3552818f-d825-433e-a4b5-bad5e1d02b76",
   "metadata": {},
   "outputs": [],
   "source": [
    "sia.polarity_scores(review_5)"
   ]
  },
  {
   "cell_type": "markdown",
   "id": "588a9344-fe28-417b-8aaf-ddca6cfb6bb7",
   "metadata": {},
   "source": [
    "Certainly a very positive review rather than just neutral"
   ]
  },
  {
   "cell_type": "code",
   "execution_count": null,
   "id": "43f8138c-8854-4de0-a852-21134c339da2",
   "metadata": {},
   "outputs": [],
   "source": [
    "review_6 = '''\n",
    "4 stars: We ordered the sando in hot and the wings in medium. There is a distinct \n",
    "heat from medium to hot with hot having more of the hot oil taste. \n",
    "The sando tasted delicious though! Juicy chicken with a nice ratio of less bread, \n",
    "equal coleslaw and big chicken. The wings were a nice crisp level to the skin but \n",
    "less and medium was much more manageable to eat without any side to slice the heat.\n",
    "'''"
   ]
  },
  {
   "cell_type": "code",
   "execution_count": null,
   "id": "0a9cdd4c-754c-4ed6-a436-754554e51d86",
   "metadata": {},
   "outputs": [],
   "source": [
    "sia.polarity_scores(review_6)"
   ]
  },
  {
   "cell_type": "markdown",
   "id": "06b58ee1-9041-45fd-a116-dcf1469412d0",
   "metadata": {},
   "source": [
    "Agree with the rating here"
   ]
  },
  {
   "cell_type": "code",
   "execution_count": null,
   "id": "0971358c-6842-4802-ad87-5c157f131939",
   "metadata": {},
   "outputs": [],
   "source": [
    "review_7 = '''\n",
    "5 stars: This is the standard that all fried chicken should be measured by.  \n",
    "Juicy, flavorful, fresh, and just absolutely amazing!  But be careful: \n",
    "even their medium will make you sweat! Their fries are also absolutely amazing!  \n",
    "There are some other competition around towb but Howlin' Ray's is hands down the best.\n",
    "'''"
   ]
  },
  {
   "cell_type": "code",
   "execution_count": null,
   "id": "082b845d-09ce-44ab-9058-941dd27aa6e9",
   "metadata": {},
   "outputs": [],
   "source": [
    "sia.polarity_scores(review_7)"
   ]
  },
  {
   "cell_type": "markdown",
   "id": "f322df95-a83a-4535-bb10-b47aafc1664a",
   "metadata": {},
   "source": [
    "A more positive review than neutral in my opinion"
   ]
  },
  {
   "cell_type": "code",
   "execution_count": null,
   "id": "49b9006d-02c5-46c1-a03b-4465d87006ee",
   "metadata": {},
   "outputs": [],
   "source": [
    "review_8 = '''\n",
    "4 stars: The chicken is cooked perfectly. It's moist, juicy and tender. \n",
    "It's piping hot and flavorful.  The only thing that I would say is that the wings were \n",
    "a little too salty from all the powdered seasoning. \n",
    "Fries were perfectly crisp outside and fluffy inside.  \n",
    "The sandwich is so well balanced.\n",
    "'''"
   ]
  },
  {
   "cell_type": "code",
   "execution_count": null,
   "id": "9f3515be-aac4-47bb-bced-99f2d145c4bf",
   "metadata": {},
   "outputs": [],
   "source": [
    "sia.polarity_scores(review_8)"
   ]
  },
  {
   "cell_type": "markdown",
   "id": "30c425d9-ef5f-46a5-8e62-37fb84ff4a2b",
   "metadata": {},
   "source": [
    "There is a negative note to the review regarding salt level in the wings but Vader didn't seem to catch on"
   ]
  },
  {
   "cell_type": "code",
   "execution_count": null,
   "id": "e8ceeb48-a034-4927-8772-bb4cdef4061f",
   "metadata": {},
   "outputs": [],
   "source": [
    "review_9 = '''\n",
    "5 stars: We got the chicken sandwich, tenders and fries in both mild and medium plus. \n",
    "The mild didn't taste spicy to me at all which is fine since i can't handle it anyways. \n",
    "My friends said the medium plus was spicy but still very tasty. The chicken was super juicy and crispy. \n",
    "Literally dripping. Loved the slaw and pickles. Fries were lightly seasoned and went well with \n",
    "extra sauce we ordered. This place definitely lives up to the hype for their Nashville hot chicken. \n",
    "Highly recommend!\n",
    "'''"
   ]
  },
  {
   "cell_type": "code",
   "execution_count": null,
   "id": "ac8c4f27-84e6-4651-a5d0-fa3f5a64333e",
   "metadata": {},
   "outputs": [],
   "source": [
    "sia.polarity_scores(review_9)"
   ]
  },
  {
   "cell_type": "markdown",
   "id": "dca6388b-c147-4fb5-9316-b4ec8aa61eef",
   "metadata": {},
   "source": [
    "The review is very positive"
   ]
  },
  {
   "cell_type": "code",
   "execution_count": null,
   "id": "cebac24a-8e11-4687-992e-5b08958a03ca",
   "metadata": {},
   "outputs": [],
   "source": [
    "review_10 = '''\n",
    "4 stars: We enjoy spicy food, but medium was a little spicier than I would have wanted. \n",
    "It seems to be the kind that's spicy just to be spicy, not to add flavor. \n",
    "I'd go down a level next time. Other than that, the sandwich was good.\n",
    "'''"
   ]
  },
  {
   "cell_type": "code",
   "execution_count": null,
   "id": "084b27d7-ff13-4bab-9c14-f5180eff56db",
   "metadata": {},
   "outputs": [],
   "source": [
    "sia.polarity_scores(review_10)"
   ]
  },
  {
   "cell_type": "markdown",
   "id": "48f365cc-0278-4537-9b58-98708eadf13e",
   "metadata": {},
   "source": [
    "This is a more neutral review, perhaps even with negative undertones about the medium spice level"
   ]
  },
  {
   "cell_type": "code",
   "execution_count": null,
   "id": "c609c4d9-7e14-42e3-b1b8-4ef19d5275e1",
   "metadata": {},
   "outputs": [],
   "source": [
    "review_11 = '''\n",
    "5 stars: The Sando is Howlin Ray's classic hot chicken sandwich, and it is my favorite item on the menu. \n",
    "The thick boneless chicken breast is always so juicy, crispy, and flavorful. \n",
    "The cool, tangy slaw cuts the heat and adds crunch and texture to every bite. \n",
    "All of this sits between two buttered brioche buns that are slathered with their creamy comeback sauce. \n",
    "I like ordering the x-hot level. I'm seriously drooling just typing this out.\n",
    "'''"
   ]
  },
  {
   "cell_type": "code",
   "execution_count": null,
   "id": "9d727086-222a-4473-aa47-7e6f42e9eea6",
   "metadata": {},
   "outputs": [],
   "source": [
    "sia.polarity_scores(review_11)"
   ]
  },
  {
   "cell_type": "markdown",
   "id": "dac5aeeb-c33e-41dd-93d3-8dd5d05ba852",
   "metadata": {},
   "source": [
    "There isn't much negativity in the review above, it is very positive"
   ]
  },
  {
   "cell_type": "code",
   "execution_count": null,
   "id": "d5001852-6e15-4987-92ee-e6f12b2ae3fa",
   "metadata": {},
   "outputs": [],
   "source": [
    "review_12 = '''\n",
    "3 stars: Is the chicken here good? Yes. \n",
    "Is it worth the 2 hour wait + price? No. With the time I spent waiting, \n",
    "I could've driven back to San Diego and bought a 10-piece dark meat  \n",
    "fried chicken place from my favorite spot \n",
    "(it's glorious and as good as Howlin' Rays) for $10.99.\n",
    "'''"
   ]
  },
  {
   "cell_type": "code",
   "execution_count": null,
   "id": "e493de7e-8540-490b-b62a-b9a31230fb04",
   "metadata": {},
   "outputs": [],
   "source": [
    "sia.polarity_scores(review_12)"
   ]
  },
  {
   "cell_type": "markdown",
   "id": "c60d78a4-4377-4267-9a4e-a6ea672df351",
   "metadata": {},
   "source": [
    "Mostly negative review"
   ]
  },
  {
   "cell_type": "code",
   "execution_count": null,
   "id": "34e9b6b5-314c-4a63-9080-2ef55342e533",
   "metadata": {},
   "outputs": [],
   "source": [
    "review_13 = '''\n",
    "4 stars for the wings: Unfortunately I have less to say about the wings cause \n",
    "I only got to take a nibble. I mainly bought it to take home to my parents and \n",
    "I definitely still really enjoyed them. I went for a slightly spicier version and \n",
    "my tolerance has weakened so the medium was perfect for me. The wings also don't have \n",
    "those other elements to help cut the spice so it was tasty but not as tasty as the sandwich. \n",
    "It does come with pickles and bread but it's not quite the same. \n",
    "Still delicious but I'll definitely always go for the sandwich.\n",
    "'''"
   ]
  },
  {
   "cell_type": "code",
   "execution_count": null,
   "id": "107db4b4-2928-42f4-92d3-4ba6038de017",
   "metadata": {},
   "outputs": [],
   "source": [
    "sia.polarity_scores(review_13)"
   ]
  },
  {
   "cell_type": "markdown",
   "id": "c04f0adc-2287-4309-a0de-1df6227cb4ba",
   "metadata": {},
   "source": [
    "A more negative than positive review"
   ]
  },
  {
   "cell_type": "code",
   "execution_count": null,
   "id": "a2d59cd1-2644-473b-a9e0-704f747ce829",
   "metadata": {},
   "outputs": [],
   "source": [
    "review_14 = '''\n",
    "5 stars: FIERY GOOD! We ordered pick-up from this restaurant and took it back home (maybe 10 min walk). \n",
    "We got an order of The Sando as well as the Mario Style Fries and let me tell you - explosion of flavor. \n",
    "Hot flavor! Be careful with what spice level you choose because medium had me sweating a little. \n",
    "The chicken is seasoned so well and you get so much crunch in each bite. \n",
    "The comeback sauce had me wanting more and the fries were such a good pair. \n",
    "I totally recommend this kicking and buttery sandwich!\n",
    "'''"
   ]
  },
  {
   "cell_type": "code",
   "execution_count": null,
   "id": "e1f39c24-ef82-4a50-ba04-00700887c563",
   "metadata": {},
   "outputs": [],
   "source": [
    "sia.polarity_scores(review_14)"
   ]
  },
  {
   "cell_type": "markdown",
   "id": "37a2123a-c3a5-4cef-a8db-ecf3dbedda2e",
   "metadata": {},
   "source": [
    "A very positive review"
   ]
  },
  {
   "cell_type": "code",
   "execution_count": null,
   "id": "eaa7afce-d416-4953-99a7-52e9ee5c09b5",
   "metadata": {},
   "outputs": [],
   "source": [
    "review_15 = '''\n",
    "5 stars: Situated in a shopping plaza in downtown La. Waited a good 2+hours in the summer time of 2019. \n",
    "I ordered the fried chicken sando with medium heat. Let me tell you this has a kick to it. \n",
    "And boy it is worth the 2+ hour wait. THE BEST NASHVILLE HOT SANDWICH EVER. \n",
    "And I've been to over 50+ Nashville hot chicken places and this is the king of them all. \n",
    "You get the crunchiness of the chicken and the tenderness on the inside as well. \n",
    "The salt and garlic and pepper taste of the seasoning plays well with all the other ingredients. \n",
    "The owner Johnny Zone came up to me and greeted me and told me I was dressed nicely and \n",
    "hooked me up with another sandwich and fries! I like this place so much so that I've been coming \n",
    "8 times already. And yes I've been waiting in line over 2+ hours each time. \n",
    "That's how good it is. Highly highly recommend this place to others\n",
    "'''"
   ]
  },
  {
   "cell_type": "code",
   "execution_count": null,
   "id": "01a1f0c8-2899-4805-9aef-b3d76a7b366a",
   "metadata": {},
   "outputs": [],
   "source": [
    "sia.polarity_scores(review_15)"
   ]
  },
  {
   "cell_type": "markdown",
   "id": "00e1a008-518a-452d-bc4a-48ce964dc328",
   "metadata": {},
   "source": [
    "This is a very positive review"
   ]
  },
  {
   "cell_type": "markdown",
   "id": "c5f98c38-8938-4774-b262-d7ac4fe0530a",
   "metadata": {},
   "source": [
    "# Movie reviews"
   ]
  },
  {
   "cell_type": "code",
   "execution_count": 1,
   "id": "1fa7bed7-1019-4cc7-bb04-a3eaf0295d25",
   "metadata": {},
   "outputs": [],
   "source": [
    "import pandas as pd\n",
    "from pathlib import Path  \n",
    "import glob"
   ]
  },
  {
   "cell_type": "code",
   "execution_count": 3,
   "id": "73404bf2-7f2d-4190-bd1a-4ecd354fd8ff",
   "metadata": {},
   "outputs": [],
   "source": [
    "directory_path = 'moviereviews'\n",
    "text_files = glob.glob(f\"{directory_path}/*\")"
   ]
  },
  {
   "cell_type": "code",
   "execution_count": 4,
   "id": "a4720b96-f456-4da8-9921-c751483452c3",
   "metadata": {},
   "outputs": [],
   "source": [
    "listofreviews = []\n",
    "for i in text_files:\n",
    "    try:\n",
    "        with open(i) as f:\n",
    "            listofreviews.append(f.read())\n",
    "    except:\n",
    "        pass"
   ]
  },
  {
   "cell_type": "code",
   "execution_count": 5,
   "id": "30eb8fb1-7e2b-4385-923d-9922ebb8788c",
   "metadata": {},
   "outputs": [
    {
     "data": {
      "text/plain": [
       "10"
      ]
     },
     "execution_count": 5,
     "metadata": {},
     "output_type": "execute_result"
    }
   ],
   "source": [
    "len(text_files)"
   ]
  },
  {
   "cell_type": "code",
   "execution_count": 6,
   "id": "29bcf5ca-48e8-4579-b0ad-010cdf206267",
   "metadata": {},
   "outputs": [
    {
     "data": {
      "text/plain": [
       "10"
      ]
     },
     "execution_count": 6,
     "metadata": {},
     "output_type": "execute_result"
    }
   ],
   "source": [
    "len(listofreviews)"
   ]
  },
  {
   "cell_type": "code",
   "execution_count": 7,
   "id": "30746f1e-c191-49e0-8792-f0e434fd9ad1",
   "metadata": {},
   "outputs": [],
   "source": [
    "from nltk.tokenize import sent_tokenize, word_tokenize\n",
    "from nltk.corpus import stopwords\n",
    "from string import punctuation"
   ]
  },
  {
   "cell_type": "code",
   "execution_count": 10,
   "id": "b9d442ff-413f-45c1-82fa-1c9887a24e02",
   "metadata": {},
   "outputs": [],
   "source": [
    "extrastop = ['’', '“','”']"
   ]
  },
  {
   "cell_type": "code",
   "execution_count": 11,
   "id": "810433b8-1a57-4a2a-b268-bca5f598a33c",
   "metadata": {},
   "outputs": [],
   "source": [
    "myStopWords = list(punctuation) + stopwords.words('english') + extrastop"
   ]
  },
  {
   "cell_type": "code",
   "execution_count": 12,
   "id": "14f71871-a654-4551-8971-76fa4fcd777a",
   "metadata": {},
   "outputs": [
    {
     "data": {
      "text/plain": [
       "['times',\n",
       " 'steven',\n",
       " 'knight',\n",
       " 'script',\n",
       " 'over-eggs',\n",
       " 'imagery',\n",
       " 'least',\n",
       " 'recurrent',\n",
       " 'motif',\n",
       " 'pheasants',\n",
       " 'beautiful',\n",
       " 'bright',\n",
       " 'birds',\n",
       " 'bred',\n",
       " 'shooting',\n",
       " 'subplot',\n",
       " 'bertie',\n",
       " 'scarecrow',\n",
       " 'wearing',\n",
       " 'coat',\n",
       " 'diana',\n",
       " 'papa',\n",
       " 'also',\n",
       " 'visions',\n",
       " 'anne',\n",
       " 'boleyn',\n",
       " 'beheaded',\n",
       " 'royal',\n",
       " 'husband',\n",
       " 'could',\n",
       " 'replace',\n",
       " 'another',\n",
       " 'woman',\n",
       " 'amid',\n",
       " 'madness',\n",
       " 'royal',\n",
       " 'life',\n",
       " 'presence',\n",
       " 'seems',\n",
       " 'weirdly',\n",
       " 'unintrusive',\n",
       " 'affecting',\n",
       " 'ecstatic',\n",
       " 'montage',\n",
       " 'stewart',\n",
       " 'dances',\n",
       " 'way',\n",
       " 'chapters',\n",
       " 'diana',\n",
       " 'life',\n",
       " 'ballet',\n",
       " 'bops',\n",
       " 'breaking',\n",
       " 'running',\n",
       " 'canter',\n",
       " 'whiff',\n",
       " 'freedom',\n",
       " 'presents']"
      ]
     },
     "execution_count": 12,
     "metadata": {},
     "output_type": "execute_result"
    }
   ],
   "source": [
    "[w for w in word_tokenize(listofreviews[0].lower()) if w not in myStopWords]"
   ]
  },
  {
   "cell_type": "code",
   "execution_count": 13,
   "id": "692d2252-0687-4314-8945-aeddce8c053a",
   "metadata": {},
   "outputs": [],
   "source": [
    "listofreviews2 = []\n",
    "for i in listofreviews:\n",
    "    listofreviews2.append([w for w in word_tokenize(i.lower()) if w not in myStopWords])"
   ]
  },
  {
   "cell_type": "code",
   "execution_count": 14,
   "id": "00c85ac3-dde6-420b-b7c3-c1d1f1a3a8b5",
   "metadata": {},
   "outputs": [
    {
     "data": {
      "text/plain": [
       "['times',\n",
       " 'steven',\n",
       " 'knight',\n",
       " 'script',\n",
       " 'over-eggs',\n",
       " 'imagery',\n",
       " 'least',\n",
       " 'recurrent',\n",
       " 'motif',\n",
       " 'pheasants',\n",
       " 'beautiful',\n",
       " 'bright',\n",
       " 'birds',\n",
       " 'bred',\n",
       " 'shooting',\n",
       " 'subplot',\n",
       " 'bertie',\n",
       " 'scarecrow',\n",
       " 'wearing',\n",
       " 'coat',\n",
       " 'diana',\n",
       " 'papa',\n",
       " 'also',\n",
       " 'visions',\n",
       " 'anne',\n",
       " 'boleyn',\n",
       " 'beheaded',\n",
       " 'royal',\n",
       " 'husband',\n",
       " 'could',\n",
       " 'replace',\n",
       " 'another',\n",
       " 'woman',\n",
       " 'amid',\n",
       " 'madness',\n",
       " 'royal',\n",
       " 'life',\n",
       " 'presence',\n",
       " 'seems',\n",
       " 'weirdly',\n",
       " 'unintrusive',\n",
       " 'affecting',\n",
       " 'ecstatic',\n",
       " 'montage',\n",
       " 'stewart',\n",
       " 'dances',\n",
       " 'way',\n",
       " 'chapters',\n",
       " 'diana',\n",
       " 'life',\n",
       " 'ballet',\n",
       " 'bops',\n",
       " 'breaking',\n",
       " 'running',\n",
       " 'canter',\n",
       " 'whiff',\n",
       " 'freedom',\n",
       " 'presents']"
      ]
     },
     "execution_count": 14,
     "metadata": {},
     "output_type": "execute_result"
    }
   ],
   "source": [
    "listofreviews2[0]"
   ]
  },
  {
   "cell_type": "code",
   "execution_count": 15,
   "id": "23e863d9-fcaf-4357-a545-2f188001771e",
   "metadata": {},
   "outputs": [],
   "source": [
    "from nltk.stem.porter import PorterStemmer"
   ]
  },
  {
   "cell_type": "code",
   "execution_count": 16,
   "id": "94f3a86e-e294-4947-a670-a8cbb17af0d8",
   "metadata": {},
   "outputs": [],
   "source": [
    "p_stemmer = PorterStemmer()"
   ]
  },
  {
   "cell_type": "code",
   "execution_count": 17,
   "id": "7dbb922f-ec9b-435e-9aa0-d65956a70b51",
   "metadata": {},
   "outputs": [],
   "source": [
    "listOfStemmedWords = []\n",
    "for i in listofreviews2:\n",
    "    listOfStemmedWords.append([p_stemmer.stem(w) for w in i])"
   ]
  },
  {
   "cell_type": "code",
   "execution_count": 18,
   "id": "76d25296-d633-4ad8-b553-aa3de8022822",
   "metadata": {},
   "outputs": [
    {
     "data": {
      "text/plain": [
       "['time',\n",
       " 'steven',\n",
       " 'knight',\n",
       " 'script',\n",
       " 'over-egg',\n",
       " 'imageri',\n",
       " 'least',\n",
       " 'recurr',\n",
       " 'motif',\n",
       " 'pheasant',\n",
       " 'beauti',\n",
       " 'bright',\n",
       " 'bird',\n",
       " 'bred',\n",
       " 'shoot',\n",
       " 'subplot',\n",
       " 'berti',\n",
       " 'scarecrow',\n",
       " 'wear',\n",
       " 'coat',\n",
       " 'diana',\n",
       " 'papa',\n",
       " 'also',\n",
       " 'vision',\n",
       " 'ann',\n",
       " 'boleyn',\n",
       " 'behead',\n",
       " 'royal',\n",
       " 'husband',\n",
       " 'could',\n",
       " 'replac',\n",
       " 'anoth',\n",
       " 'woman',\n",
       " 'amid',\n",
       " 'mad',\n",
       " 'royal',\n",
       " 'life',\n",
       " 'presenc',\n",
       " 'seem',\n",
       " 'weirdli',\n",
       " 'unintrus',\n",
       " 'affect',\n",
       " 'ecstat',\n",
       " 'montag',\n",
       " 'stewart',\n",
       " 'danc',\n",
       " 'way',\n",
       " 'chapter',\n",
       " 'diana',\n",
       " 'life',\n",
       " 'ballet',\n",
       " 'bop',\n",
       " 'break',\n",
       " 'run',\n",
       " 'canter',\n",
       " 'whiff',\n",
       " 'freedom',\n",
       " 'present']"
      ]
     },
     "execution_count": 18,
     "metadata": {},
     "output_type": "execute_result"
    }
   ],
   "source": [
    "listOfStemmedWords[0]"
   ]
  },
  {
   "cell_type": "code",
   "execution_count": 19,
   "id": "fdcb0bfd-0086-417f-87fd-13f7cfd28d06",
   "metadata": {},
   "outputs": [
    {
     "name": "stdout",
     "output_type": "stream",
     "text": [
      "Collecting gensim\n",
      "  Using cached gensim-4.1.2-cp39-cp39-manylinux_2_12_x86_64.manylinux2010_x86_64.whl (24.0 MB)\n",
      "Requirement already satisfied: scipy>=0.18.1 in /opt/conda/lib/python3.9/site-packages (from gensim) (1.7.1)\n",
      "Collecting smart-open>=1.8.1\n",
      "  Using cached smart_open-5.2.1-py3-none-any.whl (58 kB)\n",
      "Requirement already satisfied: numpy>=1.17.0 in /opt/conda/lib/python3.9/site-packages (from gensim) (1.20.3)\n",
      "Installing collected packages: smart-open, gensim\n",
      "Successfully installed gensim-4.1.2 smart-open-5.2.1\n"
     ]
    }
   ],
   "source": [
    "!pip install gensim"
   ]
  },
  {
   "cell_type": "code",
   "execution_count": 20,
   "id": "e81bee11-98ac-4342-9721-c02163ea31aa",
   "metadata": {},
   "outputs": [],
   "source": [
    "from gensim import corpora, models\n",
    "import gensim"
   ]
  },
  {
   "cell_type": "code",
   "execution_count": 21,
   "id": "eb965d08-6c85-4153-b373-97fc9fb0abf1",
   "metadata": {},
   "outputs": [],
   "source": [
    "dictionary = corpora.Dictionary(listOfStemmedWords)"
   ]
  },
  {
   "cell_type": "code",
   "execution_count": 22,
   "id": "c1065131-6cad-4ff9-9974-1296025a2a39",
   "metadata": {},
   "outputs": [
    {
     "name": "stdout",
     "output_type": "stream",
     "text": [
      "{'affect': 0, 'also': 1, 'amid': 2, 'ann': 3, 'anoth': 4, 'ballet': 5, 'beauti': 6, 'behead': 7, 'berti': 8, 'bird': 9, 'boleyn': 10, 'bop': 11, 'break': 12, 'bred': 13, 'bright': 14, 'canter': 15, 'chapter': 16, 'coat': 17, 'could': 18, 'danc': 19, 'diana': 20, 'ecstat': 21, 'freedom': 22, 'husband': 23, 'imageri': 24, 'knight': 25, 'least': 26, 'life': 27, 'mad': 28, 'montag': 29, 'motif': 30, 'over-egg': 31, 'papa': 32, 'pheasant': 33, 'presenc': 34, 'present': 35, 'recurr': 36, 'replac': 37, 'royal': 38, 'run': 39, 'scarecrow': 40, 'script': 41, 'seem': 42, 'shoot': 43, 'steven': 44, 'stewart': 45, 'subplot': 46, 'time': 47, 'unintrus': 48, 'vision': 49, 'way': 50, 'wear': 51, 'weirdli': 52, 'whiff': 53, 'woman': 54, 'around': 55, 'asphalt': 56, 'audienc': 57, 'beaten': 58, 'ben': 59, 'beverag': 60, 'charg': 61, 'come': 62, 'contriv': 63, 'cours': 64, 'discombobul': 65, 'drift': 66, 'drink': 67, 'dude': 68, 'entir': 69, 'experi': 70, 'film': 71, 'gazzara': 72, 'glass': 73, 'hey': 74, 'jacki': 75, 'keep': 76, 'mani': 77, 'mogul': 78, 'occas': 79, 'one': 80, 'perform': 81, 'porn': 82, 'roll': 83, 'scene': 84, 'sens': 85, 'seriou': 86, 'sinist': 87, 'spill': 88, 'state': 89, 'strang': 90, 'terrif': 91, 'though': 92, 'treehorn': 93, 'unjudg': 94, 'upright': 95, \"''\": 96, '``': 97, 'amount': 98, 'anti-provoc': 99, 'anticip': 100, 'award': 101, 'cast': 102, 'celebr': 103, 'comedi': 104, 'compel': 105, 'crash': 106, 'death': 107, 'deserv': 108, 'director': 109, 'execut': 110, 'francin': 111, 'free-for-al': 112, 'get': 113, 'joke': 114, 'look': 115, 'maisler': 116, 'make': 117, 'messi': 118, \"n't\": 119, 'on-screen': 120, 'once-in-a-lifetim': 121, 'planet': 122, 'power': 123, 'rise': 124, 'set': 125, 'star': 126, 'unsurpris': 127, 'us': 128, 'use': 129, 'want': 130, 'work': 131, '90-minut': 132, 'achiev': 133, 'amaz': 134, 'ambiti': 135, 'audaci': 136, 'back': 137, 'brian': 138, 'brilliant': 139, 'consist': 140, 'elev': 141, 'emi': 142, 'funni': 143, 'georg': 144, 'harrison': 145, 'hovel': 146, 'huge': 147, 'jesu': 148, 'mass': 149, 'masterpiec': 150, 'moment': 151, 'money': 152, 'monti': 153, 'mother': 154, 'nazareth': 155, 'nervous': 156, 'open': 157, 'outsid': 158, 'piec': 159, 'point-of-view': 160, 'provid': 161, 'python': 162, 'see': 163, 'shot': 164, 'sketch': 165, 'stand': 166, 'still': 167, 'superb': 168, 'tremend': 169, 'tunisia': 170, 'visual': 171, 'window': 172, 'withdrew': 173, 'zeffirelli': 174, '£3m': 175, 'across': 176, 'blame': 177, 'bring': 178, 'busi': 179, 'camera': 180, 'campier': 181, 'car': 182, 'daughter': 183, 'day': 184, 'dirt': 185, 'excess': 186, 'famili': 187, 'famou': 188, 'field': 189, 'find': 190, 'gaga': 191, 'given': 192, 'gucci': 193, 'hous': 194, 'imposs': 195, 'job': 196, 'knowingest': 197, 'ladi': 198, 'let': 199, 'love': 200, 'marri': 201, 'middle-class': 202, 'might': 203, 'movi': 204, 'origin': 205, 'own': 206, 'owner': 207, 'park': 208, 'patrizia': 209, 'prais': 210, 'regard': 211, 'reggiani': 212, 'role': 213, 'sashay': 214, 'second': 215, 'singer': 216, 'skid': 217, 'someon': 218, 'space': 219, 'spectacl': 220, 'strut': 221, 'think': 222, 'underestim': 223, 'wink': 224, '—': 225, 'accept': 226, 'alana': 227, 'ashbi': 228, 'believ': 229, 'blue': 230, 'central': 231, 'charm': 232, 'chico': 233, 'contrapunt': 234, 'coupl': 235, 'dysfunct': 236, 'eclect': 237, 'exist': 238, 'fact': 239, 'gari': 240, 'ground': 241, 'haim': 242, 'hal': 243, 'half-man/half-boy': 244, 'hamilton': 245, 'harold': 246, 'home': 247, 'hubbub': 248, 'infantalis': 249, 'jukebox': 250, 'licoric': 251, 'maud': 252, 'midst': 253, 'mind': 254, 'odd': 255, 'peculiar': 256, 'pizza': 257, 'play': 258, 'put': 259, 'quintet': 260, 'real-lif': 261, 'rel': 262, 'relationship': 263, 'remain': 264, 'sand': 265, 'someth': 266, 'soundtrack': 267, 'tone-shift': 268, 'tune': 269, 'absorb': 270, 'alway': 271, 'belief': 272, 'borderline-desper': 273, 'compos': 274, 'creativ': 275, 'devotedli': 276, 'disillus': 277, 'end': 278, 'exhaust': 279, 'garfield': 280, 'give': 281, 'good': 282, 'happi': 283, 'hero': 284, 'inspir': 285, 'larson': 286, 'needi': 287, 'new': 288, 'night': 289, 'portray': 290, 'possibl': 291, 'rather': 292, 'slog': 293, 'sondheimian': 294, 'theatric': 295, 'theme': 296, 'tri': 297, 'unend': 298, 'verg': 299, 'world': 300, 'worth': 301, 'writer': 302, \"'s\": 303, 'anderson': 304, 'deliri': 305, 'explain': 306, 'fascin': 307, 'fast-pac': 308, 'follow': 309, 'fun': 310, 'go': 311, 'hard': 312, 'imagin': 313, 'limit': 314, 'may': 315, 'much': 316, 'obsess': 317, 'outer': 318, 'slow': 319, 'unchang': 320, 'watch': 321, 'abstract': 322, 'archway': 323, 'becom': 324, 'beneath': 325, 'bold': 326, 'bubbl': 327, 'castl': 328, 'cauldron': 329, 'coen': 330, 'contrast': 331, 'dark': 332, 'feet': 333, 'floor': 334, 'histori': 335, 'ident': 336, 'ingeni': 337, 'light': 338, 'like': 339, 'loom': 340, 'macbeth': 341, 'paint': 342, 'posit': 343, 'pot': 344, 'rafter': 345, 'row': 346, 'sequenc': 347, 'show': 348, 'stage': 349, 'stir': 350, 'surrealist': 351, 'take': 352, 'theater': 353, 'witch': 354, 'absolv': 355, 'actual': 356, 'amusingli': 357, 'anyon': 358, 'anyth': 359, 'away': 360, 'burnham': 361, 'comedian': 362, 'even': 363, 'insid': 364, 'push': 365, 'realiz': 366, 'routin': 367, 'satir': 368, 'self-awar': 369, 'song': 370, 'suggest': 371, 'superfici': 372}\n"
     ]
    }
   ],
   "source": [
    "print(dictionary.token2id)"
   ]
  },
  {
   "cell_type": "code",
   "execution_count": 23,
   "id": "0ded573a-6e09-4919-b07d-cded974eed2c",
   "metadata": {},
   "outputs": [],
   "source": [
    "corpus = [dictionary.doc2bow(text) for text in listOfStemmedWords]"
   ]
  },
  {
   "cell_type": "code",
   "execution_count": 24,
   "id": "b44e2b82-41d3-4a7a-b688-5730a80f0eae",
   "metadata": {},
   "outputs": [
    {
     "name": "stdout",
     "output_type": "stream",
     "text": [
      "[(21, 1), (27, 1), (69, 1), (71, 2), (125, 2), (129, 1), (132, 1), (133, 1), (134, 1), (135, 1), (136, 1), (137, 1), (138, 2), (139, 1), (140, 1), (141, 1), (142, 1), (143, 1), (144, 1), (145, 1), (146, 1), (147, 1), (148, 1), (149, 1), (150, 1), (151, 1), (152, 1), (153, 1), (154, 1), (155, 1), (156, 1), (157, 1), (158, 1), (159, 1), (160, 1), (161, 1), (162, 2), (163, 1), (164, 2), (165, 1), (166, 1), (167, 1), (168, 1), (169, 1), (170, 1), (171, 1), (172, 1), (173, 1), (174, 1), (175, 1)]\n"
     ]
    }
   ],
   "source": [
    "print(corpus[3])"
   ]
  },
  {
   "cell_type": "code",
   "execution_count": 27,
   "id": "acb015fa-c631-49a9-99b0-8807bfea0e60",
   "metadata": {},
   "outputs": [
    {
     "name": "stdout",
     "output_type": "stream",
     "text": [
      "49\n"
     ]
    }
   ],
   "source": [
    "print(dictionary.token2id['vision'])"
   ]
  },
  {
   "cell_type": "code",
   "execution_count": 28,
   "id": "06a1c3ce-90b7-45f8-a33d-bac57d3d66eb",
   "metadata": {},
   "outputs": [],
   "source": [
    "ldamodel = gensim.models.ldamodel.LdaModel(corpus, \n",
    "                                           num_topics=2, \n",
    "                                           id2word = dictionary, \n",
    "                                           passes=20)"
   ]
  },
  {
   "cell_type": "code",
   "execution_count": 29,
   "id": "b59d8415-a351-4656-ac78-3d524c3ffd66",
   "metadata": {},
   "outputs": [
    {
     "name": "stdout",
     "output_type": "stream",
     "text": [
      "(0, '0.010*\"alway\" + 0.008*\"\\'s\" + 0.008*\"entir\" + 0.008*\"scene\" + 0.008*\"strang\" + 0.008*\"macbeth\" + 0.006*\"could\" + 0.006*\"life\" + 0.006*\"sondheimian\" + 0.006*\"royal\" + 0.006*\"larson\" + 0.006*\"dude\" + 0.006*\"give\" + 0.006*\"come\" + 0.006*\"diana\" + 0.006*\"seriou\" + 0.006*\"sens\" + 0.006*\"witch\" + 0.006*\"bird\" + 0.006*\"charm\"')\n",
      "(1, '0.009*\"movi\" + 0.009*\"film\" + 0.009*\"look\" + 0.009*\"use\" + 0.009*\"set\" + 0.009*\"love\" + 0.009*\"\\'s\" + 0.006*\"moment\" + 0.006*\"one\" + 0.006*\"us\" + 0.006*\"gucci\" + 0.006*\"gaga\" + 0.006*\"python\" + 0.006*\"—\" + 0.006*\"ladi\" + 0.006*\"shot\" + 0.006*\"brian\" + 0.006*\"want\" + 0.006*\"let\" + 0.006*\"burnham\"')\n"
     ]
    }
   ],
   "source": [
    "for i in ldamodel.print_topics(num_topics=2, num_words=20):\n",
    "    print(i)"
   ]
  },
  {
   "cell_type": "markdown",
   "id": "d0a59815-bb06-4f90-a6bb-1622d2ef5342",
   "metadata": {},
   "source": [
    "The program unfortunately did not create the categories based on comedy vs drama reviews. Perhaps longer reviews with a larger sample size would have been better for this. There are unique names from titles in both categories without a separation between what should be a comedy and what should be a drama."
   ]
  },
  {
   "cell_type": "code",
   "execution_count": null,
   "id": "eb3b8d65-c0e2-4948-b39c-00c76e839dad",
   "metadata": {},
   "outputs": [],
   "source": []
  }
 ],
 "metadata": {
  "kernelspec": {
   "display_name": "Python 3 (ipykernel)",
   "language": "python",
   "name": "python3"
  },
  "language_info": {
   "codemirror_mode": {
    "name": "ipython",
    "version": 3
   },
   "file_extension": ".py",
   "mimetype": "text/x-python",
   "name": "python",
   "nbconvert_exporter": "python",
   "pygments_lexer": "ipython3",
   "version": "3.9.6"
  }
 },
 "nbformat": 4,
 "nbformat_minor": 5
}
